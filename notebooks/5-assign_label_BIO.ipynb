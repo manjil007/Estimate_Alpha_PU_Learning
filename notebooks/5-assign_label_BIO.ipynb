{
 "cells": [
  {
   "cell_type": "code",
   "execution_count": 1,
   "id": "b6ebc001",
   "metadata": {},
   "outputs": [],
   "source": [
    "import pandas as pd"
   ]
  },
  {
   "cell_type": "code",
   "execution_count": 2,
   "id": "6d70b35e",
   "metadata": {},
   "outputs": [],
   "source": [
    "chunk_size = 10000  # Adjust based on your RAM\n",
    "chunks = []\n",
    "\n",
    "for chunk in pd.read_csv('../data/processed/BioPDB_features_with_labels.csv', chunksize=chunk_size):\n",
    "    processed_chunk = chunk\n",
    "    chunks.append(processed_chunk)\n",
    "\n",
    "# Combine all chunks if needed\n",
    "bioPDF_df = pd.concat(chunks, ignore_index=True)"
   ]
  },
  {
   "cell_type": "code",
   "execution_count": 3,
   "id": "5e3ef051",
   "metadata": {},
   "outputs": [
    {
     "data": {
      "text/plain": [
       "label\n",
       "0    45997933\n",
       "1      600808\n",
       "Name: count, dtype: int64"
      ]
     },
     "execution_count": 3,
     "metadata": {},
     "output_type": "execute_result"
    }
   ],
   "source": [
    "bioPDF_df['label'].value_counts()"
   ]
  },
  {
   "cell_type": "code",
   "execution_count": null,
   "id": "8192eee6",
   "metadata": {},
   "outputs": [],
   "source": []
  }
 ],
 "metadata": {
  "kernelspec": {
   "display_name": "biomodeling",
   "language": "python",
   "name": "python3"
  },
  "language_info": {
   "codemirror_mode": {
    "name": "ipython",
    "version": 3
   },
   "file_extension": ".py",
   "mimetype": "text/x-python",
   "name": "python",
   "nbconvert_exporter": "python",
   "pygments_lexer": "ipython3",
   "version": "3.11.11"
  }
 },
 "nbformat": 4,
 "nbformat_minor": 5
}
