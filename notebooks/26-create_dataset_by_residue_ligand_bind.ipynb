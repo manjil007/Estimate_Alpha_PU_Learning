{
 "cells": [
  {
   "cell_type": "code",
   "execution_count": 1,
   "id": "ebcb563d",
   "metadata": {},
   "outputs": [],
   "source": [
    "import pandas as pd\n",
    "from pathlib import Path"
   ]
  },
  {
   "cell_type": "markdown",
   "id": "e0c8329f",
   "metadata": {},
   "source": [
    "### EXTRACT RNA BINDING RESIDUES"
   ]
  },
  {
   "cell_type": "code",
   "execution_count": null,
   "id": "3fd23bd0",
   "metadata": {},
   "outputs": [],
   "source": [
    "# ---------------------------------------------------------------------\n",
    "# 1. Paths\n",
    "# ---------------------------------------------------------------------\n",
    "\n",
    "rna_file       = \"../data/processed/ligand_splits/positives_rna.csv\"\n",
    "master_X_file  = \"../data/processed/master_residue_file.csv\"\n",
    "\n",
    "X_out = \"../data/processed/rna_binding_residues.csv\""
   ]
  },
  {
   "cell_type": "code",
   "execution_count": 3,
   "id": "eb342acc",
   "metadata": {},
   "outputs": [
    {
     "name": "stdout",
     "output_type": "stream",
     "text": [
      "RNA file: 174,226 unique binding residues\n"
     ]
    }
   ],
   "source": [
    "# ---------------------------------------------------------------------\n",
    "# 2. Load RNA-binding residue identifiers\n",
    "# ---------------------------------------------------------------------\n",
    "rna_df = pd.read_csv(rna_file)\n",
    "\n",
    "# Make sure these columns exist\n",
    "expected_cols = {\"pdb_id\", \"chain_id\", \"pdb_residue_number\"}\n",
    "assert expected_cols.issubset(set(rna_df.columns)), f\"Missing columns in RNA file: {expected_cols - set(rna_df.columns)}\"\n",
    "\n",
    "rna_keys = rna_df[[\"pdb_id\", \"chain_id\", \"pdb_residue_number\"]].drop_duplicates()\n",
    "\n",
    "print(f\"RNA file: {len(rna_keys):,} unique binding residues\")"
   ]
  },
  {
   "cell_type": "code",
   "execution_count": 4,
   "id": "481c2a99",
   "metadata": {},
   "outputs": [
    {
     "name": "stderr",
     "output_type": "stream",
     "text": [
      "/tmp/ipykernel_1941395/1366734708.py:4: DtypeWarning: Columns (55,56) have mixed types. Specify dtype option on import or set low_memory=False.\n",
      "  X = pd.read_csv(master_X_file)\n"
     ]
    },
    {
     "name": "stdout",
     "output_type": "stream",
     "text": [
      "Master residue file shape: (13219671, 69)\n"
     ]
    }
   ],
   "source": [
    "# ---------------------------------------------------------------------\n",
    "# 3. Load master residue feature file\n",
    "# ---------------------------------------------------------------------\n",
    "X = pd.read_csv(master_X_file)\n",
    "print(f\"Master residue file shape: {X.shape}\")"
   ]
  },
  {
   "cell_type": "code",
   "execution_count": 5,
   "id": "60eb0841",
   "metadata": {},
   "outputs": [
    {
     "data": {
      "text/plain": [
       "Index(['pdb_id', 'chain_id', 'pdb_residue_number', 'renum_residue_number',\n",
       "       'insertion_code', 'residue_name', 'centroid_x', 'centroid_y',\n",
       "       'centroid_z', 'mean_bfactor', 'std_bfactor', 'mean_occupancy',\n",
       "       'num_atoms', 'num_heavy_atoms', 'num_sidechain_atoms',\n",
       "       'mean_intra_atom_dist', 'std_intra_atom_dist', 'radius_of_gyration',\n",
       "       'residue_radius', 'bounding_box_volume', 'closest_neighbor_dist',\n",
       "       'avg_neighbor_distance', 'prev_res', 'next_res', 'position_in_chain',\n",
       "       'is_small', 'contact_number_4A', 'contact_number_6A',\n",
       "       'contact_number_8A', 'contact_number_10A', 'label', 'amino_acid',\n",
       "       'iupred2a_long_score', 'iupred2a_short_score', 'iupred2a_anchor_score',\n",
       "       'PSSM_A', 'PSSM_R', 'PSSM_N', 'PSSM_D', 'PSSM_C', 'PSSM_Q', 'PSSM_E',\n",
       "       'PSSM_G', 'PSSM_H', 'PSSM_I', 'PSSM_L', 'PSSM_K', 'PSSM_M', 'PSSM_F',\n",
       "       'PSSM_P', 'PSSM_S', 'PSSM_T', 'PSSM_W', 'PSSM_Y', 'PSSM_V',\n",
       "       'dssp_residue_name', 'secondary_structure', 'absolute_sasa',\n",
       "       'relative_asa', 'phi', 'psi', 'hbond_NH_O1_energy',\n",
       "       'hbond_NH_O2_energy', 'hbond_O_NH1_energy', 'hbond_O_NH2_energy',\n",
       "       'is_aromatic', 'is_polar', 'is_charged', 'is_hydrophobic'],\n",
       "      dtype='object')"
      ]
     },
     "execution_count": 5,
     "metadata": {},
     "output_type": "execute_result"
    }
   ],
   "source": [
    "X.columns"
   ]
  },
  {
   "cell_type": "code",
   "execution_count": 6,
   "id": "55c349ab",
   "metadata": {},
   "outputs": [],
   "source": [
    "# ---------------------------------------------------------------------\n",
    "# 4. Check that X has the identifier columns\n",
    "# ---------------------------------------------------------------------\n",
    "assert expected_cols.issubset(set(X.columns)), f\"Missing identifier columns in master residue file\""
   ]
  },
  {
   "cell_type": "code",
   "execution_count": 7,
   "id": "20ef8b2b",
   "metadata": {},
   "outputs": [
    {
     "name": "stdout",
     "output_type": "stream",
     "text": [
      "Matched rows before dropping NaNs: 203,279\n"
     ]
    }
   ],
   "source": [
    "# ---------------------------------------------------------------------\n",
    "# 5. Merge to find matching rows\n",
    "# ---------------------------------------------------------------------\n",
    "merged = X.merge(\n",
    "    rna_keys,\n",
    "    on=[\"pdb_id\", \"chain_id\", \"pdb_residue_number\"],\n",
    "    how=\"inner\"\n",
    ")\n",
    "\n",
    "print(f\"Matched rows before dropping NaNs: {len(merged):,}\")\n"
   ]
  },
  {
   "cell_type": "code",
   "execution_count": null,
   "id": "98c72baa",
   "metadata": {},
   "outputs": [],
   "source": []
  },
  {
   "cell_type": "code",
   "execution_count": 8,
   "id": "caeb3735",
   "metadata": {},
   "outputs": [
    {
     "name": "stdout",
     "output_type": "stream",
     "text": [
      "Missing values per column:\n",
      "prev_res                   2287\n",
      "next_res                    766\n",
      "amino_acid                40161\n",
      "iupred2a_long_score       40161\n",
      "iupred2a_short_score      40161\n",
      "iupred2a_anchor_score     40161\n",
      "PSSM_A                    49068\n",
      "PSSM_R                    49068\n",
      "PSSM_N                    49068\n",
      "PSSM_D                    49068\n",
      "PSSM_C                    49068\n",
      "PSSM_Q                    49068\n",
      "PSSM_E                    49068\n",
      "PSSM_G                    49068\n",
      "PSSM_H                    49068\n",
      "PSSM_I                    49068\n",
      "PSSM_L                    49068\n",
      "PSSM_K                    49068\n",
      "PSSM_M                    49068\n",
      "PSSM_F                    49068\n",
      "PSSM_P                    49068\n",
      "PSSM_S                    49068\n",
      "PSSM_T                    49068\n",
      "PSSM_W                    49068\n",
      "PSSM_Y                    49068\n",
      "PSSM_V                    49068\n",
      "dssp_residue_name        166986\n",
      "secondary_structure      166986\n",
      "absolute_sasa            166986\n",
      "relative_asa             166986\n",
      "phi                      166986\n",
      "psi                      166986\n",
      "hbond_NH_O1_energy       166986\n",
      "hbond_NH_O2_energy       166986\n",
      "hbond_O_NH1_energy       166986\n",
      "hbond_O_NH2_energy       166986\n",
      "is_aromatic              166986\n",
      "is_polar                 166986\n",
      "is_charged               166986\n",
      "is_hydrophobic           166986\n",
      "dtype: int64\n"
     ]
    }
   ],
   "source": [
    "# See which columns have missing values\n",
    "missing_per_column = merged.isnull().sum()\n",
    "print(\"Missing values per column:\")\n",
    "print(missing_per_column[missing_per_column > 0])"
   ]
  },
  {
   "cell_type": "code",
   "execution_count": 9,
   "id": "de120784",
   "metadata": {},
   "outputs": [
    {
     "data": {
      "text/plain": [
       "(203279, 69)"
      ]
     },
     "execution_count": 9,
     "metadata": {},
     "output_type": "execute_result"
    }
   ],
   "source": [
    "merged.shape"
   ]
  },
  {
   "cell_type": "code",
   "execution_count": null,
   "id": "dccea4d0",
   "metadata": {},
   "outputs": [],
   "source": []
  },
  {
   "cell_type": "code",
   "execution_count": 10,
   "id": "d2518205",
   "metadata": {},
   "outputs": [],
   "source": [
    "# ------------------------------------------------------------\n",
    "# 6. Add 100,000 random unlabeled residues\n",
    "# ------------------------------------------------------------\n",
    "# Make sure you have a 'label' column for this\n",
    "if 'label' not in X.columns:\n",
    "    raise ValueError(\"The master residue file must contain a 'label' column for selecting unlabeled residues.\")"
   ]
  },
  {
   "cell_type": "code",
   "execution_count": 11,
   "id": "5ade999e",
   "metadata": {},
   "outputs": [
    {
     "name": "stdout",
     "output_type": "stream",
     "text": [
      "Total unlabeled pool: 12,571,279\n",
      "Sampled unlabeled: 100,000\n"
     ]
    }
   ],
   "source": [
    "unlabeled_pool = X[X[\"label\"] == 0]\n",
    "print(f\"Total unlabeled pool: {len(unlabeled_pool):,}\")\n",
    "\n",
    "unlabeled_sample = unlabeled_pool.sample(n=100_000, random_state=42)\n",
    "\n",
    "print(f\"Sampled unlabeled: {len(unlabeled_sample):,}\")\n"
   ]
  },
  {
   "cell_type": "code",
   "execution_count": 12,
   "id": "8cc75760",
   "metadata": {},
   "outputs": [
    {
     "name": "stdout",
     "output_type": "stream",
     "text": [
      "Combined rows before dropping NaNs: 303,279\n"
     ]
    }
   ],
   "source": [
    "# Combine\n",
    "combined = pd.concat([merged, unlabeled_sample], ignore_index=True)\n",
    "print(f\"Combined rows before dropping NaNs: {len(combined):,}\")"
   ]
  },
  {
   "cell_type": "code",
   "execution_count": 14,
   "id": "8b7d09b8",
   "metadata": {},
   "outputs": [
    {
     "ename": "KeyError",
     "evalue": "\"['dssp_residue_name', 'secondary_structure', 'absolute_sasa', 'relative_asa', 'phi', 'psi', 'hbond_NH_O1_energy', 'hbond_NH_O2_energy', 'hbond_O_NH1_energy', 'hbond_O_NH2_energy', 'is_aromatic', 'is_polar', 'is_charged', 'is_hydrophobic'] not found in axis\"",
     "output_type": "error",
     "traceback": [
      "\u001b[31m---------------------------------------------------------------------------\u001b[39m",
      "\u001b[31mKeyError\u001b[39m                                  Traceback (most recent call last)",
      "\u001b[36mCell\u001b[39m\u001b[36m \u001b[39m\u001b[32mIn[14]\u001b[39m\u001b[32m, line 20\u001b[39m\n\u001b[32m      2\u001b[39m columns_to_drop = [\n\u001b[32m      3\u001b[39m     \u001b[33m'\u001b[39m\u001b[33mdssp_residue_name\u001b[39m\u001b[33m'\u001b[39m,\n\u001b[32m      4\u001b[39m     \u001b[33m'\u001b[39m\u001b[33msecondary_structure\u001b[39m\u001b[33m'\u001b[39m, \n\u001b[32m   (...)\u001b[39m\u001b[32m     16\u001b[39m     \u001b[33m'\u001b[39m\u001b[33mis_hydrophobic\u001b[39m\u001b[33m'\u001b[39m\n\u001b[32m     17\u001b[39m ]\n\u001b[32m     19\u001b[39m \u001b[38;5;66;03m# Drop the columns\u001b[39;00m\n\u001b[32m---> \u001b[39m\u001b[32m20\u001b[39m combined = \u001b[43mcombined\u001b[49m\u001b[43m.\u001b[49m\u001b[43mdrop\u001b[49m\u001b[43m(\u001b[49m\u001b[43mcolumns\u001b[49m\u001b[43m=\u001b[49m\u001b[43mcolumns_to_drop\u001b[49m\u001b[43m)\u001b[49m\n\u001b[32m     22\u001b[39m \u001b[38;5;28mprint\u001b[39m(\u001b[33mf\u001b[39m\u001b[33m\"\u001b[39m\u001b[33mDropped \u001b[39m\u001b[38;5;132;01m{\u001b[39;00m\u001b[38;5;28mlen\u001b[39m(columns_to_drop)\u001b[38;5;132;01m}\u001b[39;00m\u001b[33m columns with high missing values\u001b[39m\u001b[33m\"\u001b[39m)\n\u001b[32m     23\u001b[39m \u001b[38;5;28mprint\u001b[39m(\u001b[33mf\u001b[39m\u001b[33m\"\u001b[39m\u001b[33mDataFrame shape after dropping: \u001b[39m\u001b[38;5;132;01m{\u001b[39;00mcombined.shape\u001b[38;5;132;01m}\u001b[39;00m\u001b[33m\"\u001b[39m)\n",
      "\u001b[36mFile \u001b[39m\u001b[32m~/miniconda3/envs/pulsnar/lib/python3.11/site-packages/pandas/core/frame.py:5588\u001b[39m, in \u001b[36mDataFrame.drop\u001b[39m\u001b[34m(self, labels, axis, index, columns, level, inplace, errors)\u001b[39m\n\u001b[32m   5440\u001b[39m \u001b[38;5;28;01mdef\u001b[39;00m\u001b[38;5;250m \u001b[39m\u001b[34mdrop\u001b[39m(\n\u001b[32m   5441\u001b[39m     \u001b[38;5;28mself\u001b[39m,\n\u001b[32m   5442\u001b[39m     labels: IndexLabel | \u001b[38;5;28;01mNone\u001b[39;00m = \u001b[38;5;28;01mNone\u001b[39;00m,\n\u001b[32m   (...)\u001b[39m\u001b[32m   5449\u001b[39m     errors: IgnoreRaise = \u001b[33m\"\u001b[39m\u001b[33mraise\u001b[39m\u001b[33m\"\u001b[39m,\n\u001b[32m   5450\u001b[39m ) -> DataFrame | \u001b[38;5;28;01mNone\u001b[39;00m:\n\u001b[32m   5451\u001b[39m \u001b[38;5;250m    \u001b[39m\u001b[33;03m\"\"\"\u001b[39;00m\n\u001b[32m   5452\u001b[39m \u001b[33;03m    Drop specified labels from rows or columns.\u001b[39;00m\n\u001b[32m   5453\u001b[39m \n\u001b[32m   (...)\u001b[39m\u001b[32m   5586\u001b[39m \u001b[33;03m            weight  1.0     0.8\u001b[39;00m\n\u001b[32m   5587\u001b[39m \u001b[33;03m    \"\"\"\u001b[39;00m\n\u001b[32m-> \u001b[39m\u001b[32m5588\u001b[39m     \u001b[38;5;28;01mreturn\u001b[39;00m \u001b[38;5;28;43msuper\u001b[39;49m\u001b[43m(\u001b[49m\u001b[43m)\u001b[49m\u001b[43m.\u001b[49m\u001b[43mdrop\u001b[49m\u001b[43m(\u001b[49m\n\u001b[32m   5589\u001b[39m \u001b[43m        \u001b[49m\u001b[43mlabels\u001b[49m\u001b[43m=\u001b[49m\u001b[43mlabels\u001b[49m\u001b[43m,\u001b[49m\n\u001b[32m   5590\u001b[39m \u001b[43m        \u001b[49m\u001b[43maxis\u001b[49m\u001b[43m=\u001b[49m\u001b[43maxis\u001b[49m\u001b[43m,\u001b[49m\n\u001b[32m   5591\u001b[39m \u001b[43m        \u001b[49m\u001b[43mindex\u001b[49m\u001b[43m=\u001b[49m\u001b[43mindex\u001b[49m\u001b[43m,\u001b[49m\n\u001b[32m   5592\u001b[39m \u001b[43m        \u001b[49m\u001b[43mcolumns\u001b[49m\u001b[43m=\u001b[49m\u001b[43mcolumns\u001b[49m\u001b[43m,\u001b[49m\n\u001b[32m   5593\u001b[39m \u001b[43m        \u001b[49m\u001b[43mlevel\u001b[49m\u001b[43m=\u001b[49m\u001b[43mlevel\u001b[49m\u001b[43m,\u001b[49m\n\u001b[32m   5594\u001b[39m \u001b[43m        \u001b[49m\u001b[43minplace\u001b[49m\u001b[43m=\u001b[49m\u001b[43minplace\u001b[49m\u001b[43m,\u001b[49m\n\u001b[32m   5595\u001b[39m \u001b[43m        \u001b[49m\u001b[43merrors\u001b[49m\u001b[43m=\u001b[49m\u001b[43merrors\u001b[49m\u001b[43m,\u001b[49m\n\u001b[32m   5596\u001b[39m \u001b[43m    \u001b[49m\u001b[43m)\u001b[49m\n",
      "\u001b[36mFile \u001b[39m\u001b[32m~/miniconda3/envs/pulsnar/lib/python3.11/site-packages/pandas/core/generic.py:4807\u001b[39m, in \u001b[36mNDFrame.drop\u001b[39m\u001b[34m(self, labels, axis, index, columns, level, inplace, errors)\u001b[39m\n\u001b[32m   4805\u001b[39m \u001b[38;5;28;01mfor\u001b[39;00m axis, labels \u001b[38;5;129;01min\u001b[39;00m axes.items():\n\u001b[32m   4806\u001b[39m     \u001b[38;5;28;01mif\u001b[39;00m labels \u001b[38;5;129;01mis\u001b[39;00m \u001b[38;5;129;01mnot\u001b[39;00m \u001b[38;5;28;01mNone\u001b[39;00m:\n\u001b[32m-> \u001b[39m\u001b[32m4807\u001b[39m         obj = \u001b[43mobj\u001b[49m\u001b[43m.\u001b[49m\u001b[43m_drop_axis\u001b[49m\u001b[43m(\u001b[49m\u001b[43mlabels\u001b[49m\u001b[43m,\u001b[49m\u001b[43m \u001b[49m\u001b[43maxis\u001b[49m\u001b[43m,\u001b[49m\u001b[43m \u001b[49m\u001b[43mlevel\u001b[49m\u001b[43m=\u001b[49m\u001b[43mlevel\u001b[49m\u001b[43m,\u001b[49m\u001b[43m \u001b[49m\u001b[43merrors\u001b[49m\u001b[43m=\u001b[49m\u001b[43merrors\u001b[49m\u001b[43m)\u001b[49m\n\u001b[32m   4809\u001b[39m \u001b[38;5;28;01mif\u001b[39;00m inplace:\n\u001b[32m   4810\u001b[39m     \u001b[38;5;28mself\u001b[39m._update_inplace(obj)\n",
      "\u001b[36mFile \u001b[39m\u001b[32m~/miniconda3/envs/pulsnar/lib/python3.11/site-packages/pandas/core/generic.py:4849\u001b[39m, in \u001b[36mNDFrame._drop_axis\u001b[39m\u001b[34m(self, labels, axis, level, errors, only_slice)\u001b[39m\n\u001b[32m   4847\u001b[39m         new_axis = axis.drop(labels, level=level, errors=errors)\n\u001b[32m   4848\u001b[39m     \u001b[38;5;28;01melse\u001b[39;00m:\n\u001b[32m-> \u001b[39m\u001b[32m4849\u001b[39m         new_axis = \u001b[43maxis\u001b[49m\u001b[43m.\u001b[49m\u001b[43mdrop\u001b[49m\u001b[43m(\u001b[49m\u001b[43mlabels\u001b[49m\u001b[43m,\u001b[49m\u001b[43m \u001b[49m\u001b[43merrors\u001b[49m\u001b[43m=\u001b[49m\u001b[43merrors\u001b[49m\u001b[43m)\u001b[49m\n\u001b[32m   4850\u001b[39m     indexer = axis.get_indexer(new_axis)\n\u001b[32m   4852\u001b[39m \u001b[38;5;66;03m# Case for non-unique axis\u001b[39;00m\n\u001b[32m   4853\u001b[39m \u001b[38;5;28;01melse\u001b[39;00m:\n",
      "\u001b[36mFile \u001b[39m\u001b[32m~/miniconda3/envs/pulsnar/lib/python3.11/site-packages/pandas/core/indexes/base.py:7098\u001b[39m, in \u001b[36mIndex.drop\u001b[39m\u001b[34m(self, labels, errors)\u001b[39m\n\u001b[32m   7096\u001b[39m \u001b[38;5;28;01mif\u001b[39;00m mask.any():\n\u001b[32m   7097\u001b[39m     \u001b[38;5;28;01mif\u001b[39;00m errors != \u001b[33m\"\u001b[39m\u001b[33mignore\u001b[39m\u001b[33m\"\u001b[39m:\n\u001b[32m-> \u001b[39m\u001b[32m7098\u001b[39m         \u001b[38;5;28;01mraise\u001b[39;00m \u001b[38;5;167;01mKeyError\u001b[39;00m(\u001b[33mf\u001b[39m\u001b[33m\"\u001b[39m\u001b[38;5;132;01m{\u001b[39;00mlabels[mask].tolist()\u001b[38;5;132;01m}\u001b[39;00m\u001b[33m not found in axis\u001b[39m\u001b[33m\"\u001b[39m)\n\u001b[32m   7099\u001b[39m     indexer = indexer[~mask]\n\u001b[32m   7100\u001b[39m \u001b[38;5;28;01mreturn\u001b[39;00m \u001b[38;5;28mself\u001b[39m.delete(indexer)\n",
      "\u001b[31mKeyError\u001b[39m: \"['dssp_residue_name', 'secondary_structure', 'absolute_sasa', 'relative_asa', 'phi', 'psi', 'hbond_NH_O1_energy', 'hbond_NH_O2_energy', 'hbond_O_NH1_energy', 'hbond_O_NH2_energy', 'is_aromatic', 'is_polar', 'is_charged', 'is_hydrophobic'] not found in axis\""
     ]
    }
   ],
   "source": [
    "# Columns to drop due to high missing values\n",
    "columns_to_drop = [\n",
    "    'dssp_residue_name',\n",
    "    'secondary_structure', \n",
    "    'absolute_sasa',\n",
    "    'relative_asa',\n",
    "    'phi',\n",
    "    'psi',\n",
    "    'hbond_NH_O1_energy',\n",
    "    'hbond_NH_O2_energy',\n",
    "    'hbond_O_NH1_energy',\n",
    "    'hbond_O_NH2_energy',\n",
    "    'is_aromatic',\n",
    "    'is_polar',\n",
    "    'is_charged',\n",
    "    'is_hydrophobic'\n",
    "]\n",
    "\n",
    "# Drop the columns\n",
    "combined = combined.drop(columns=columns_to_drop)\n",
    "\n",
    "print(f\"Dropped {len(columns_to_drop)} columns with high missing values\")\n",
    "print(f\"DataFrame shape after dropping: {combined.shape}\")"
   ]
  },
  {
   "cell_type": "code",
   "execution_count": 15,
   "id": "62261e90",
   "metadata": {},
   "outputs": [
    {
     "name": "stdout",
     "output_type": "stream",
     "text": [
      "Rows after dropping NaNs: 245,280\n"
     ]
    }
   ],
   "source": [
    "# ------------------------------------------------------------\n",
    "# 7. Drop any rows with NaNs\n",
    "# ------------------------------------------------------------\n",
    "cleaned = combined.dropna().reset_index(drop=True)\n",
    "print(f\"Rows after dropping NaNs: {len(cleaned):,}\")\n"
   ]
  },
  {
   "cell_type": "code",
   "execution_count": 17,
   "id": "f738b6a9",
   "metadata": {},
   "outputs": [
    {
     "data": {
      "text/plain": [
       "label\n",
       "1    152037\n",
       "0     93243\n",
       "Name: count, dtype: int64"
      ]
     },
     "execution_count": 17,
     "metadata": {},
     "output_type": "execute_result"
    }
   ],
   "source": [
    "cleaned['label'].value_counts()"
   ]
  },
  {
   "cell_type": "code",
   "execution_count": null,
   "id": "544351e6",
   "metadata": {},
   "outputs": [],
   "source": [
    "\n",
    "# ---------------------------------------------------------------------\n",
    "# 6. Drop rows with any NaNs\n",
    "# ---------------------------------------------------------------------\n",
    "cleaned = merged.dropna().reset_index(drop=True)\n",
    "print(f\"Matched rows after dropping NaNs: {len(cleaned):,}\")"
   ]
  },
  {
   "cell_type": "code",
   "execution_count": null,
   "id": "ca1561e2",
   "metadata": {},
   "outputs": [],
   "source": [
    "# # ---------------------------------------------------------------------\n",
    "# # 7. Save\n",
    "# # ---------------------------------------------------------------------\n",
    "# cleaned.to_csv(X_out, index=False)\n",
    "# print(f\"Saved RNA-binding residues → {X_out}\")"
   ]
  },
  {
   "cell_type": "code",
   "execution_count": 18,
   "id": "8bbcd186",
   "metadata": {},
   "outputs": [],
   "source": [
    "import pandas as pd\n",
    "import joblib\n",
    "from sklearn.preprocessing import OneHotEncoder\n",
    "from sklearn.compose import ColumnTransformer\n",
    "from scipy import sparse"
   ]
  },
  {
   "cell_type": "code",
   "execution_count": 26,
   "id": "654fd79f",
   "metadata": {},
   "outputs": [],
   "source": [
    "# ---------- 1. Configuration --------------------------------\n",
    "rna_binding_residues    = \"/home/mpradhan/Intern_Research_Project/data/rna_binding_residues.csv\"          # <-- change to real path\n",
    "drop_cols      = ['amino_acid']\n",
    "label_col      = 'label'\n",
    "\n",
    "identifier_cols = ['pdb_id', 'chain_id',\n",
    "                   'pdb_residue_number', 'renum_residue_number',\n",
    "                   'insertion_code']               # keep residue_name for encoding\n",
    "\n",
    "categorical_cols = ['residue_name',                 # 3-letter code\n",
    "                    'prev_res', 'next_res']          # DSSP SS symbol"
   ]
  },
  {
   "cell_type": "code",
   "execution_count": 27,
   "id": "caf88cf4",
   "metadata": {},
   "outputs": [],
   "source": [
    "# ---------- 2. Load data ------------------------------------\n",
    "df = cleaned\n",
    "df = df.drop(columns=drop_cols, errors='ignore')"
   ]
  },
  {
   "cell_type": "code",
   "execution_count": 28,
   "id": "5a6469a9",
   "metadata": {},
   "outputs": [
    {
     "data": {
      "text/plain": [
       "Index(['pdb_id', 'chain_id', 'pdb_residue_number', 'renum_residue_number',\n",
       "       'insertion_code', 'residue_name', 'centroid_x', 'centroid_y',\n",
       "       'centroid_z', 'mean_bfactor', 'std_bfactor', 'mean_occupancy',\n",
       "       'num_atoms', 'num_heavy_atoms', 'num_sidechain_atoms',\n",
       "       'mean_intra_atom_dist', 'std_intra_atom_dist', 'radius_of_gyration',\n",
       "       'residue_radius', 'bounding_box_volume', 'closest_neighbor_dist',\n",
       "       'avg_neighbor_distance', 'prev_res', 'next_res', 'position_in_chain',\n",
       "       'is_small', 'contact_number_4A', 'contact_number_6A',\n",
       "       'contact_number_8A', 'contact_number_10A', 'label',\n",
       "       'iupred2a_long_score', 'iupred2a_short_score', 'iupred2a_anchor_score',\n",
       "       'PSSM_A', 'PSSM_R', 'PSSM_N', 'PSSM_D', 'PSSM_C', 'PSSM_Q', 'PSSM_E',\n",
       "       'PSSM_G', 'PSSM_H', 'PSSM_I', 'PSSM_L', 'PSSM_K', 'PSSM_M', 'PSSM_F',\n",
       "       'PSSM_P', 'PSSM_S', 'PSSM_T', 'PSSM_W', 'PSSM_Y', 'PSSM_V'],\n",
       "      dtype='object')"
      ]
     },
     "execution_count": 28,
     "metadata": {},
     "output_type": "execute_result"
    }
   ],
   "source": [
    "df.columns"
   ]
  },
  {
   "cell_type": "code",
   "execution_count": 29,
   "id": "1bf4287b",
   "metadata": {},
   "outputs": [],
   "source": [
    "# ---------- 3. Split X and y -------------------------------\n",
    "y = df[label_col]\n",
    "X = df.drop(columns=[label_col] + identifier_cols, errors='ignore')"
   ]
  },
  {
   "cell_type": "code",
   "execution_count": 30,
   "id": "4191f185",
   "metadata": {},
   "outputs": [],
   "source": [
    "# ---------- 4. Separate numeric columns ---------------------\n",
    "numeric_cols = [c for c in X.columns if c not in categorical_cols]"
   ]
  },
  {
   "cell_type": "code",
   "execution_count": 31,
   "id": "87597214",
   "metadata": {},
   "outputs": [],
   "source": [
    "# ---------- 5. Build ColumnTransformer ----------------------\n",
    "encoder = ColumnTransformer(\n",
    "    transformers=[\n",
    "        (\"cat\",\n",
    "         OneHotEncoder(sparse_output=True, handle_unknown=\"ignore\"),\n",
    "         categorical_cols),\n",
    "        (\"num\", \"passthrough\", numeric_cols)\n",
    "    ],\n",
    "    remainder=\"drop\",\n",
    "    sparse_threshold=1.0      # keep sparse unless 100 % dense\n",
    ")"
   ]
  },
  {
   "cell_type": "code",
   "execution_count": 32,
   "id": "91e3b410",
   "metadata": {},
   "outputs": [],
   "source": [
    "# ---------- 6. Fit & transform ------------------------------\n",
    "X_sparse = encoder.fit_transform(X)      # SciPy CSR matrix"
   ]
  },
  {
   "cell_type": "code",
   "execution_count": null,
   "id": "2433d311",
   "metadata": {},
   "outputs": [],
   "source": []
  },
  {
   "cell_type": "code",
   "execution_count": 33,
   "id": "594f8b94",
   "metadata": {},
   "outputs": [
    {
     "name": "stdout",
     "output_type": "stream",
     "text": [
      "Saving dense CSV – may take a while and lots of disk space …\n"
     ]
    }
   ],
   "source": [
    "# ---------- 7. Save outputs ---------------------------------\n",
    "print(\"Saving dense CSV – may take a while and lots of disk space …\")\n",
    "X_dense = X_sparse.toarray()\n",
    "feature_names = encoder.get_feature_names_out()\n",
    "pd.DataFrame(X_dense, columns=feature_names).to_csv(\"../data/rna_binding_residues.csv\", index=False)\n",
    "y.to_csv(\"../data/y_rna_binding_residues.csv\", index=False)"
   ]
  },
  {
   "cell_type": "code",
   "execution_count": 34,
   "id": "8712dae9",
   "metadata": {},
   "outputs": [
    {
     "name": "stdout",
     "output_type": "stream",
     "text": [
      "Total positive samples (label=1): 152037\n",
      "Changed 15000 samples from 1 to 0\n",
      "Original distribution: {1: 152037, 0: 93243}\n",
      "Modified distribution: {1: 137037, 0: 108243}\n",
      "Saved as: ../data/y_true_binding_residues.csv\n"
     ]
    }
   ],
   "source": [
    "import pandas as pd\n",
    "import numpy as np\n",
    "\n",
    "# Read the saved y file\n",
    "y = pd.read_csv(\"../data/y_rna_binding_residues.csv\")\n",
    "\n",
    "# Find indices where y == 1\n",
    "positive_indices = y[y.iloc[:, 0] == 1].index.tolist()\n",
    "\n",
    "print(f\"Total positive samples (label=1): {len(positive_indices)}\")\n",
    "\n",
    "# Check if we have enough positive samples\n",
    "if len(positive_indices) < 15000:\n",
    "    print(f\"Warning: Only {len(positive_indices)} positive samples available, changing all to 0\")\n",
    "    indices_to_change = positive_indices\n",
    "else:\n",
    "    # Randomly select 15000 positive samples to change to 0\n",
    "    np.random.seed(42)  # For reproducibility\n",
    "    indices_to_change = np.random.choice(positive_indices, size=15000, replace=False)\n",
    "\n",
    "# Create a copy and modify the labels\n",
    "y_modified = y.copy()\n",
    "y_modified.iloc[indices_to_change, 0] = 0\n",
    "\n",
    "# Save the modified y as new file\n",
    "y_modified.to_csv(\"../data/y_true_binding_residues.csv\", index=False)\n",
    "\n",
    "print(f\"Changed {len(indices_to_change)} samples from 1 to 0\")\n",
    "print(f\"Original distribution: {y.iloc[:, 0].value_counts().to_dict()}\")\n",
    "print(f\"Modified distribution: {y_modified.iloc[:, 0].value_counts().to_dict()}\")\n",
    "print(\"Saved as: ../data/y_true_binding_residues.csv\")"
   ]
  },
  {
   "cell_type": "markdown",
   "id": "39601d9a",
   "metadata": {},
   "source": [
    "### EXTRACT DNA BINDING RESIDUES"
   ]
  },
  {
   "cell_type": "code",
   "execution_count": null,
   "id": "98d31cef",
   "metadata": {},
   "outputs": [],
   "source": []
  }
 ],
 "metadata": {
  "kernelspec": {
   "display_name": "pulsnar",
   "language": "python",
   "name": "python3"
  },
  "language_info": {
   "codemirror_mode": {
    "name": "ipython",
    "version": 3
   },
   "file_extension": ".py",
   "mimetype": "text/x-python",
   "name": "python",
   "nbconvert_exporter": "python",
   "pygments_lexer": "ipython3",
   "version": "3.11.13"
  }
 },
 "nbformat": 4,
 "nbformat_minor": 5
}
