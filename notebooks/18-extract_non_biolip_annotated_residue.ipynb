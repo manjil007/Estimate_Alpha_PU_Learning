{
 "cells": [
  {
   "cell_type": "markdown",
   "id": "1c031a0b",
   "metadata": {},
   "source": [
    "### EXTRACT PDB IDS"
   ]
  },
  {
   "cell_type": "code",
   "execution_count": null,
   "id": "8a422c9a",
   "metadata": {},
   "outputs": [],
   "source": [
    "import requests\n",
    "import json\n",
    "from pathlib import Path\n",
    "import pandas as pd"
   ]
  },
  {
   "cell_type": "code",
   "execution_count": null,
   "id": "4f1d4f06",
   "metadata": {},
   "outputs": [],
   "source": [
    "OUT_PATH = Path(\"../data/raw/all_current_pdb_ids.txt\")"
   ]
  },
  {
   "cell_type": "code",
   "execution_count": null,
   "id": "8e72a490",
   "metadata": {},
   "outputs": [],
   "source": [
    "# url = \"https://data.rcsb.org/rest/v1/holdings/current/entry_ids\"\n",
    "# resp = requests.get(url, timeout=30)\n",
    "# resp.raise_for_status()          # ensure the request succeeded\n",
    "\n",
    "# pdb_ids = resp.json()            # ← resp.json() is a Python list\n",
    "# print(f\"Retrieved {len(pdb_ids):,} current PDB IDs\")"
   ]
  },
  {
   "cell_type": "code",
   "execution_count": null,
   "id": "22cdd032",
   "metadata": {},
   "outputs": [],
   "source": [
    "# OUT_PATH.write_text(\"\\n\".join(pdb_ids))"
   ]
  },
  {
   "cell_type": "code",
   "execution_count": null,
   "id": "70a43284",
   "metadata": {},
   "outputs": [],
   "source": [
    "biolip_df = pd.read_csv('../data/raw/BioLiP_nr.txt', sep='\\t', header=None)"
   ]
  },
  {
   "cell_type": "code",
   "execution_count": null,
   "id": "4cee19b3",
   "metadata": {},
   "outputs": [],
   "source": [
    "columns = [\n",
    "    \"pdb_id\",                      # 01: PDB ID\n",
    "    \"receptor_chain\",              # 02: Receptor chain\n",
    "    \"resolution\",                  # 03: Resolution (-1.00 indicates missing data)\n",
    "    \"binding_site_id\",             # 04: Binding site number code\n",
    "    \"ligand_id\",                   # 05: Ligand ID (CCD code)\n",
    "    \"ligand_chain\",                # 06: Ligand chain\n",
    "    \"ligand_serial_number\",        # 07: Ligand serial number\n",
    "    \"binding_residues_pdb\",        # 08: Binding site residues (PDB numbering)\n",
    "    \"binding_residues_renum\",      # 09: Binding site residues (renumbered from 1)\n",
    "    \"catalytic_residues_pdb\",      # 10: Catalytic site residues (PDB numbering)\n",
    "    \"catalytic_residues_renum\",    # 11: Catalytic site residues (renumbered from 1)\n",
    "    \"ec_number\",                   # 12: EC number\n",
    "    \"go_terms\",                    # 13: GO terms\n",
    "    \"binding_affinity_literature\", # 14: Binding affinity (manual survey)\n",
    "    \"binding_affinity_moad\",       # 15: Binding affinity (Binding MOAD)\n",
    "    \"binding_affinity_pdbbind\",    # 16: Binding affinity (PDBbind-CN)\n",
    "    \"binding_affinity_bindingdb\",  # 17: Binding affinity (BindingDB)\n",
    "    \"uniprot_id\",                  # 18: UniProt ID\n",
    "    \"pubmed_id\",                   # 19: PubMed ID\n",
    "    \"ligand_residue_seq_number\",   # 20: Ligand residue sequence number\n",
    "    \"receptor_sequence\"            # 21: Receptor sequence\n",
    "]"
   ]
  },
  {
   "cell_type": "code",
   "execution_count": null,
   "id": "8a8c5f04",
   "metadata": {},
   "outputs": [],
   "source": [
    "biolip_df.columns = columns"
   ]
  },
  {
   "cell_type": "code",
   "execution_count": null,
   "id": "bff0fc7a",
   "metadata": {},
   "outputs": [],
   "source": [
    "pdb_ids = biolip_df['pdb_id']\n",
    "\n",
    "import numpy as np\n",
    "\n",
    "pdb_ids = pdb_ids.str.upper().unique()"
   ]
  },
  {
   "cell_type": "code",
   "execution_count": null,
   "id": "de939ad4",
   "metadata": {},
   "outputs": [],
   "source": [
    "with open(\"../data/raw/all_current_pdb_ids.txt\") as f:\n",
    "    all_pdb_ids = [line.strip().upper() for line in f if line.strip()]\n",
    "\n",
    "# ✅ Compare: how many match?\n",
    "biolip_ids_set = set(pdb_ids)\n",
    "all_pdb_ids_set = set(all_pdb_ids)\n",
    "\n",
    "shared = biolip_ids_set.intersection(all_pdb_ids_set)"
   ]
  },
  {
   "cell_type": "code",
   "execution_count": null,
   "id": "3d13e069",
   "metadata": {},
   "outputs": [],
   "source": [
    "len(shared)"
   ]
  },
  {
   "cell_type": "code",
   "execution_count": null,
   "id": "d7d0a8b7",
   "metadata": {},
   "outputs": [],
   "source": [
    "non_biolip_ids = all_pdb_ids_set - biolip_ids_set"
   ]
  },
  {
   "cell_type": "code",
   "execution_count": null,
   "id": "b6257a5f",
   "metadata": {},
   "outputs": [],
   "source": [
    "len(non_biolip_ids)"
   ]
  },
  {
   "cell_type": "markdown",
   "id": "4fe92ce2",
   "metadata": {},
   "source": [
    "### Extract 5000 random proteins"
   ]
  },
  {
   "cell_type": "code",
   "execution_count": null,
   "id": "d04b8916",
   "metadata": {},
   "outputs": [],
   "source": [
    "import random\n",
    "\n",
    "non_biolip_ids = list(non_biolip_ids)\n",
    "\n",
    "random.seed(42)\n",
    "\n",
    "sampled_non_biolip_ids = random.sample(non_biolip_ids, k=20000)\n",
    "\n",
    "Non_OUT_PATH = Path(\"../data/raw/sample_non_biolip_pdb_ids.txt\")\n",
    "\n",
    "Non_OUT_PATH.write_text(\"\\n\".join(sampled_non_biolip_ids))"
   ]
  },
  {
   "cell_type": "markdown",
   "id": "c5dfe102",
   "metadata": {},
   "source": [
    "### Download cif file for each sampled protein"
   ]
  },
  {
   "cell_type": "code",
   "execution_count": null,
   "id": "1c1b9601",
   "metadata": {},
   "outputs": [],
   "source": [
    "# import requests\n",
    "# from pathlib import Path\n",
    "\n",
    "# output_dir = Path(\"../data/raw/pdb_cifs\")\n",
    "# output_dir.mkdir(parents=True, exist_ok=True)\n",
    "\n",
    "# for pid in sampled_non_biolip_ids:\n",
    "#     url = f\"https://files.rcsb.org/download/{pid.upper()}.cif.gz\"\n",
    "#     out_path = output_dir / f\"pdb{pid.lower()}.ent.cif.gz\"\n",
    "    \n",
    "#     if out_path.exists():\n",
    "#         print(f\"Already downloaded: {pid}\")\n",
    "#         continue\n",
    "\n",
    "#     response = requests.get(url)\n",
    "#     if response.status_code == 200:\n",
    "#         with open(out_path, \"wb\") as f:\n",
    "#             f.write(response.content)\n",
    "#         print(f\"Downloaded: {pid}\")\n",
    "#     else:\n",
    "#         print(f\"Failed: {pid} (HTTP {response.status_code})\")\n"
   ]
  },
  {
   "cell_type": "markdown",
   "id": "dc192629",
   "metadata": {},
   "source": [
    "### Extract all residues of sample proteins"
   ]
  },
  {
   "cell_type": "code",
   "execution_count": null,
   "id": "ea8aeaf6",
   "metadata": {},
   "outputs": [],
   "source": [
    "from pathlib import Path\n",
    "from Bio.PDB import MMCIFParser\n",
    "from Bio.PDB.Polypeptide import is_aa\n",
    "import pandas as pd\n",
    "import gzip\n",
    "\n",
    "# ✅ 3-letter to 1-letter mapping\n",
    "three_to_one_dict = {\n",
    "    \"ALA\": \"A\", \"ARG\": \"R\", \"ASN\": \"N\", \"ASP\": \"D\",\n",
    "    \"CYS\": \"C\", \"GLN\": \"Q\", \"GLU\": \"E\", \"GLY\": \"G\",\n",
    "    \"HIS\": \"H\", \"ILE\": \"I\", \"LEU\": \"L\", \"LYS\": \"K\",\n",
    "    \"MET\": \"M\", \"PHE\": \"F\", \"PRO\": \"P\", \"SER\": \"S\",\n",
    "    \"THR\": \"T\", \"TRP\": \"W\", \"TYR\": \"Y\", \"VAL\": \"V\",\n",
    "    \"SEC\": \"U\", \"PYL\": \"O\",\n",
    "}\n",
    "\n",
    "parser = MMCIFParser(QUIET=True)\n",
    "records = []\n",
    "\n",
    "cif_dir = Path(\"../data/raw/pdb_cifs\")\n",
    "\n",
    "for pid in sampled_non_biolip_ids:\n",
    "    cif_file = next(cif_dir.glob(f\"pdb{pid.lower()}.ent.cif.gz\"), None)\n",
    "    if cif_file is None:\n",
    "        print(f\"Missing file: {pid}\")\n",
    "        continue\n",
    "\n",
    "    try:\n",
    "        with gzip.open(cif_file, mode='rt') as handle:\n",
    "            structure = parser.get_structure(pid, handle)\n",
    "\n",
    "        model = structure[0]\n",
    "\n",
    "        for chain in model:\n",
    "            chain_residues = []\n",
    "            seq_list = []\n",
    "\n",
    "            for res in chain:\n",
    "                if not is_aa(res, standard=True):\n",
    "                    continue\n",
    "\n",
    "                hetflag, seq_num, icode = res.get_id()\n",
    "                pdb_residue_number = seq_num\n",
    "                resname = res.get_resname().upper()\n",
    "\n",
    "                one_letter = three_to_one_dict.get(resname, 'X')\n",
    "                seq_list.append(one_letter)\n",
    "\n",
    "                chain_residues.append({\n",
    "                    \"pdb_id\": pid,\n",
    "                    \"chain_id\": chain.id,\n",
    "                    \"pdb_residue_number\": pdb_residue_number,\n",
    "                    \"residue_name\": resname,\n",
    "                    \"receptor_sequence\": None  # placeholder\n",
    "                })\n",
    "\n",
    "            if not chain_residues:\n",
    "                continue\n",
    "\n",
    "            receptor_sequence = \"\".join(seq_list)\n",
    "\n",
    "            for renum_idx, r in enumerate(chain_residues, start=1):\n",
    "                r[\"renum_residue_number\"] = renum_idx\n",
    "                r[\"receptor_sequence\"] = receptor_sequence\n",
    "\n",
    "            records.extend(chain_residues)\n",
    "\n",
    "    except KeyError as e:\n",
    "        print(f\"KeyError for {pid}: {e}. Skipping.\")\n",
    "    except Exception as e:\n",
    "        print(f\"Other error for {pid}: {e}. Skipping.\")\n",
    "\n",
    "print(f\"Total residues extracted: {len(records):,}\")\n",
    "\n",
    "df = pd.DataFrame(records)\n",
    "print(df.head())\n"
   ]
  },
  {
   "cell_type": "code",
   "execution_count": null,
   "id": "4844b82f",
   "metadata": {},
   "outputs": [],
   "source": [
    "df.to_csv(\"../data/raw/sample_non_biolip_residues.csv\", index=False)"
   ]
  },
  {
   "cell_type": "code",
   "execution_count": null,
   "id": "2f1e6249",
   "metadata": {},
   "outputs": [],
   "source": [
    "pd.set_option('display.max_rows', None)\n",
    "pd.set_option('display.max_columns', None)"
   ]
  },
  {
   "cell_type": "code",
   "execution_count": null,
   "id": "cf48e1c7",
   "metadata": {},
   "outputs": [],
   "source": [
    "df['receptor_sequence'].unique()"
   ]
  },
  {
   "cell_type": "code",
   "execution_count": null,
   "id": "1888a4c4",
   "metadata": {},
   "outputs": [],
   "source": [
    "df[[\"pdb_id\", \"chain_id\"]].drop_duplicates().shape[0]"
   ]
  },
  {
   "cell_type": "code",
   "execution_count": null,
   "id": "5743fb18",
   "metadata": {},
   "outputs": [],
   "source": [
    "df['receptor_sequence'].nunique()"
   ]
  },
  {
   "cell_type": "code",
   "execution_count": null,
   "id": "1d993bed",
   "metadata": {},
   "outputs": [],
   "source": [
    "df[[\"pdb_id\", \"chain_id\", \"receptor_sequence\"]].drop_duplicates().groupby(\"receptor_sequence\").size().value_counts()"
   ]
  },
  {
   "cell_type": "markdown",
   "id": "3dca551e",
   "metadata": {},
   "source": [
    "### Construct FASTA files"
   ]
  },
  {
   "cell_type": "code",
   "execution_count": null,
   "id": "faf85e29",
   "metadata": {},
   "outputs": [],
   "source": [
    "import pandas as pd\n",
    "\n",
    "df = pd.read_csv(\"../data/raw/sample_non_biolip_residues.csv\")"
   ]
  },
  {
   "cell_type": "code",
   "execution_count": null,
   "id": "d14220a6",
   "metadata": {},
   "outputs": [],
   "source": [
    "import os\n",
    "\n",
    "# Create output FASTA folder\n",
    "fasta_dir = \"../data/raw/iupred_fasta_non_biolip\"\n",
    "os.makedirs(fasta_dir, exist_ok=True)\n",
    "\n",
    "# Drop duplicates to ensure unique PDB-chain combinations\n",
    "unique_entries = df[['pdb_id', 'chain_id', 'receptor_sequence']].drop_duplicates()\n",
    "\n",
    "# Write FASTA file for each entry\n",
    "fasta_paths = []\n",
    "for _, row in unique_entries.iterrows():\n",
    "    pdb_id = row['pdb_id']\n",
    "    chain = row['chain_id']\n",
    "    sequence = row['receptor_sequence']\n",
    "    fasta_filename = f\"{pdb_id}_{chain}.fasta\"\n",
    "    fasta_path = os.path.join(fasta_dir, fasta_filename)\n",
    "    fasta_paths.append(fasta_path)\n",
    "    if chain == \"SX\" or chain == \"SX0\":\n",
    "        print(f\"Skipping {pdb_id} chain {chain} due to invalid chain identifier.\")\n",
    "    \n",
    "    with open(fasta_path, \"w\") as f:\n",
    "        f.write(f\">{pdb_id}_{chain}\\n{sequence}\\n\")"
   ]
  },
  {
   "cell_type": "code",
   "execution_count": null,
   "id": "d50ac98a",
   "metadata": {},
   "outputs": [],
   "source": [
    "import subprocess\n",
    "import os\n",
    "import glob\n",
    "\n",
    "def run_psiblast(fasta_path, db_path, output_dir, num_iterations=3):\n",
    "    pdb_id = os.path.splitext(os.path.basename(fasta_path))[0]\n",
    "    pssm_ascii = os.path.join(output_dir, f\"{pdb_id}.pssm\")\n",
    "\n",
    "    if os.path.exists(pssm_ascii):\n",
    "        print(f\"Skipping {pdb_id}, PSSM already exists.\")\n",
    "        return\n",
    "\n",
    "    cmd = [\n",
    "        \"psiblast\",\n",
    "        \"-query\", fasta_path,\n",
    "        \"-db\", db_path,\n",
    "        \"-num_iterations\", str(num_iterations),\n",
    "        \"-out_ascii_pssm\", pssm_ascii,\n",
    "        \"-evalue\", \"0.001\"\n",
    "    ]\n",
    "    print(f\"Running PSI-BLAST for {pdb_id}...\")\n",
    "    try:\n",
    "        subprocess.run(cmd, check=True)\n",
    "    except subprocess.CalledProcessError as e:\n",
    "        print(f\"PSI-BLAST failed for {pdb_id}: {e}\")\n",
    "\n",
    "if __name__ == \"__main__\":\n",
    "    fasta_dir = \"/home/mpradhan007/Academic/Research_Projects/Intern_Research/data/raw/iupred_fasta_non_biolip\"\n",
    "    blast_db = \"/home/mpradhan007/Academic/Research_Projects/Intern_Research/data/raw/blast_db/uniprot_sprot_db\"\n",
    "    output_dir = \"/home/mpradhan007/Academic/Research_Projects/Intern_Research/data/processed/non_biolip_pssm_1\"\n",
    "    os.makedirs(output_dir, exist_ok=True)\n",
    "\n",
    "    fasta_files = glob.glob(os.path.join(fasta_dir, \"*.fasta\"))\n",
    "\n",
    "    for fasta_path in fasta_files:\n",
    "        run_psiblast(fasta_path, blast_db, output_dir)"
   ]
  },
  {
   "cell_type": "code",
   "execution_count": null,
   "id": "13e86694",
   "metadata": {},
   "outputs": [],
   "source": [
    "import pandas as pd\n",
    "from pathlib import Path\n",
    "from Bio.PDB import MMCIFParser, DSSP\n",
    "import warnings\n",
    "from Bio.PDB.PDBExceptions import PDBConstructionWarning\n",
    "# Add these new imports for handling gzipped files\n",
    "import gzip\n",
    "import tempfile\n",
    "\n",
    "# ----------------------- settings -----------------------\n",
    "# split_id_file  = \"/home/mpradhan007/Academic/Research_Projects/Intern_Research/data/raw/pdb_ids_part3.csv\"\n",
    "structure_dir  = Path(\"/home/mpradhan007/Academic/Research_Projects/Intern_Research/data/raw/pdb_cifs\")\n",
    "dssp_exe       = \"mkdssp\"\n",
    "output_path    = \"/home/mpradhan007/Academic/Research_Projects/Intern_Research/data/processed/non_biolip_residue_features_1.csv\"\n",
    "# --------------------------------------------------------\n",
    "\n",
    "warnings.simplefilter(\"ignore\", PDBConstructionWarning)\n",
    "\n",
    "# This assumes `non_biolip_ids` is a list of PDB IDs like ['1a2t', '1a2w', ...]\n",
    "pdb_ids = (list(id.lower() for id in non_biolip_ids))\n",
    "parser  = MMCIFParser(QUIET=True)\n",
    "rows    = []\n",
    "\n",
    "for pdb_id in pdb_ids:\n",
    "    # 1. Correct the filename to match the format in your directory\n",
    "    cif_gz_file = structure_dir / f\"pdb{pdb_id}.ent.cif.gz\"\n",
    "\n",
    "    if not cif_gz_file.exists():\n",
    "        print(f\"[!] Missing structure: {pdb_id}\")\n",
    "        continue\n",
    "\n",
    "    # 2. Decompress the .gz file into a temporary file\n",
    "    try:\n",
    "        with gzip.open(cif_gz_file, 'rt') as gz_f:\n",
    "            cif_content = gz_f.read()\n",
    "        \n",
    "        # Create a temporary file to store the uncompressed content\n",
    "        with tempfile.NamedTemporaryFile(mode='w', delete=True, suffix='.cif') as temp_file:\n",
    "            temp_file.write(cif_content)\n",
    "            temp_file.flush() # Ensure content is written to disk\n",
    "\n",
    "            # Use the temporary file path for Biopython and DSSP\n",
    "            structure = parser.get_structure(pdb_id, temp_file.name)\n",
    "            dssp      = DSSP(structure[0], temp_file.name, dssp=dssp_exe)\n",
    "\n",
    "    except Exception as e:\n",
    "        print(f\"[!] Skipping {pdb_id}: DSSP failed – {e}\")\n",
    "        continue\n",
    "\n",
    "    for (chain_id, res_id), data in dssp.property_dict.items():\n",
    "        hetflag, resnum, icode = res_id\n",
    "        residue_id = f\"{resnum}{icode.strip()}\" if icode.strip() else str(resnum)\n",
    "        aa         = data[1]\n",
    "\n",
    "        rows.append({\n",
    "            \"pdb_id\": pdb_id,\n",
    "            \"chain_id\": chain_id,\n",
    "            \"residue_id\": residue_id,\n",
    "            \"residue_name\": aa,\n",
    "            \"secondary_structure\": data[2],\n",
    "            \"absolute_sasa\": data[3],\n",
    "            \"relative_asa\": data[4],\n",
    "            \"phi\": data[5],\n",
    "            \"psi\": data[6],\n",
    "            \"hbond_NH_O1_energy\": data[7],\n",
    "            \"hbond_NH_O2_energy\": data[8],\n",
    "            \"hbond_O_NH1_energy\": data[9],\n",
    "            \"hbond_O_NH2_energy\": data[10],\n",
    "            \"is_aromatic\": int(aa in {\"F\",\"Y\",\"W\",\"H\"}),\n",
    "            \"is_polar\":      int(aa in {\"S\",\"T\",\"N\",\"Q\",\"Y\",\"C\"}),\n",
    "            \"is_charged\":    int(aa in {\"R\",\"K\",\"D\",\"E\",\"H\"}),\n",
    "            \"is_hydrophobic\": int(aa in {\"A\",\"V\",\"I\",\"L\",\"M\",\"F\",\"W\",\"Y\"}),\n",
    "        })\n",
    "\n",
    "df = pd.DataFrame(rows)\n",
    "df.to_csv(output_path, index=False)\n",
    "print(f\"[✓] Saved {len(df)} residue rows → {output_path}\")"
   ]
  },
  {
   "cell_type": "code",
   "execution_count": null,
   "id": "82180829",
   "metadata": {},
   "outputs": [],
   "source": [
    "import subprocess\n",
    "import pandas as pd\n",
    "import os\n",
    "import glob\n",
    "\n",
    "def run_iupred2a(fasta_path, mode='long', use_anchor=False):\n",
    "    if use_anchor and mode != 'long':\n",
    "        raise ValueError(\"Anchor mode must use 'long' as the prediction type.\")\n",
    "\n",
    "    if use_anchor:\n",
    "        cmd = [\n",
    "            'python3',\n",
    "            '/home/mpradhan007/Academic/Research_Projects/Intern_Research/iupred2a/iupred2a.py',\n",
    "            '-a',\n",
    "            fasta_path,\n",
    "            'long'\n",
    "        ]\n",
    "    else:\n",
    "        cmd = [\n",
    "            'python3',\n",
    "            '/home/mpradhan007/Academic/Research_Projects/Intern_Research/iupred2a/iupred2a.py',\n",
    "            fasta_path,\n",
    "            mode\n",
    "        ]\n",
    "\n",
    "    result = subprocess.run(cmd, capture_output=True, text=True)\n",
    "    output = result.stdout\n",
    "\n",
    "    if not output or \"Usage:\" in output or \"not found\" in output:\n",
    "        raise RuntimeError(f\"IUPred2A failed for {os.path.basename(fasta_path)} in mode '{mode}':\\n{result.stderr or output}\")\n",
    "\n",
    "    lines = output.strip().split('\\n')\n",
    "    data = []\n",
    "\n",
    "    for line in lines:\n",
    "        if line.startswith('#') or not line.strip():\n",
    "            continue\n",
    "        fields = line.strip().split()\n",
    "        if len(fields) < 3:\n",
    "            continue\n",
    "        pos, aa, score = fields[0], fields[1], fields[2]\n",
    "        label = 'anchor' if use_anchor else mode\n",
    "        data.append({\n",
    "            'position': int(pos),\n",
    "            'amino_acid': aa,\n",
    "            f'iupred2a_{label}_score': float(score)\n",
    "        })\n",
    "\n",
    "    return pd.DataFrame(data)\n",
    "\n",
    "\n",
    "def extract_ids_from_filename(filename):\n",
    "    basename = os.path.basename(filename)\n",
    "    pdb_chain = basename.replace('.fasta', '')\n",
    "    if '_' not in pdb_chain:\n",
    "        raise ValueError(f\"Filename {basename} does not follow the expected 'pdb_chain.fasta' format.\")\n",
    "    pdb_id, chain_id = pdb_chain.split('_')\n",
    "    if chain_id == 'SX':\n",
    "        print(\"incorrect chain_id, skipping\")\n",
    "    return pdb_id.lower(), chain_id.upper()\n",
    "\n",
    "\n",
    "if __name__ == \"__main__\":\n",
    "    input_dir = \"/home/mpradhan007/Academic/Research_Projects/Intern_Research/data/raw/iupred_fasta_non_biolip\"\n",
    "    output_csv = \"/home/mpradhan007/Academic/Research_Projects/Intern_Research/data/processed/non_biolip_iupred2a_scores_all.csv\"\n",
    "\n",
    "    all_files = glob.glob(os.path.join(input_dir, \"*.fasta\"))\n",
    "    all_dfs = []\n",
    "\n",
    "    for fasta_file in all_files:\n",
    "        pdb_id, chain_id = extract_ids_from_filename(fasta_file)\n",
    "\n",
    "        try:\n",
    "            df_long = run_iupred2a(fasta_file, mode='long')\n",
    "            df_short = run_iupred2a(fasta_file, mode='short')\n",
    "            df_anchor = run_iupred2a(fasta_file, mode='long', use_anchor=True)\n",
    "\n",
    "            df = df_long.merge(df_short, on=['position', 'amino_acid']) \\\n",
    "                        .merge(df_anchor, on=['position', 'amino_acid'])\n",
    "\n",
    "            df['pdb_id'] = pdb_id\n",
    "            df['chain_id'] = chain_id\n",
    "\n",
    "            all_dfs.append(df)\n",
    "        except Exception as e:\n",
    "            print(f\"Failed on {fasta_file}: {e}\")\n",
    "\n",
    "    if all_dfs:\n",
    "        final_df = pd.concat(all_dfs, ignore_index=True)\n",
    "        final_df.to_csv(output_csv, index=False)\n",
    "        print(f\"Saved combined IUPred2A scores to {output_csv}\")\n",
    "    else:\n",
    "        print(\"No data processed.\")\n"
   ]
  },
  {
   "cell_type": "code",
   "execution_count": null,
   "id": "4d36558a",
   "metadata": {},
   "outputs": [],
   "source": [
    "import pandas as pd"
   ]
  },
  {
   "cell_type": "code",
   "execution_count": null,
   "id": "412be7e3",
   "metadata": {},
   "outputs": [],
   "source": [
    "df_residue_1 = pd.read_csv(\"../data/processed/sample_non_biolip_residue_structural_features_biopdb.csv\")"
   ]
  },
  {
   "cell_type": "code",
   "execution_count": null,
   "id": "52d59e6f",
   "metadata": {},
   "outputs": [],
   "source": [
    "df_residue_1.head()"
   ]
  },
  {
   "cell_type": "code",
   "execution_count": null,
   "id": "8602abc5",
   "metadata": {},
   "outputs": [],
   "source": [
    "df_residue_1.shape"
   ]
  },
  {
   "cell_type": "code",
   "execution_count": null,
   "id": "5ead7569",
   "metadata": {},
   "outputs": [],
   "source": [
    "df_iupred = pd.read_csv(\"../data/processed/non_biolip_iupred2a_scores_all.csv\", nrows=1000)"
   ]
  },
  {
   "cell_type": "code",
   "execution_count": null,
   "id": "18ac786c",
   "metadata": {},
   "outputs": [],
   "source": [
    "df_iupred.head()"
   ]
  },
  {
   "cell_type": "code",
   "execution_count": null,
   "id": "046c245a",
   "metadata": {},
   "outputs": [],
   "source": [
    "df_iupred.shape"
   ]
  },
  {
   "cell_type": "markdown",
   "id": "f12a1a50",
   "metadata": {},
   "source": [
    "## Merge all the extracted features"
   ]
  },
  {
   "cell_type": "code",
   "execution_count": 1,
   "id": "577f038e",
   "metadata": {},
   "outputs": [],
   "source": [
    "import pandas as pd"
   ]
  },
  {
   "cell_type": "code",
   "execution_count": 2,
   "id": "efc05500",
   "metadata": {},
   "outputs": [],
   "source": [
    "df_master  = pd.read_csv(\"../data/raw/sample_non_biolip_residues.csv\")"
   ]
  },
  {
   "cell_type": "code",
   "execution_count": 3,
   "id": "1ca1ca92",
   "metadata": {},
   "outputs": [
    {
     "data": {
      "text/html": [
       "<div>\n",
       "<style scoped>\n",
       "    .dataframe tbody tr th:only-of-type {\n",
       "        vertical-align: middle;\n",
       "    }\n",
       "\n",
       "    .dataframe tbody tr th {\n",
       "        vertical-align: top;\n",
       "    }\n",
       "\n",
       "    .dataframe thead th {\n",
       "        text-align: right;\n",
       "    }\n",
       "</style>\n",
       "<table border=\"1\" class=\"dataframe\">\n",
       "  <thead>\n",
       "    <tr style=\"text-align: right;\">\n",
       "      <th></th>\n",
       "      <th>pdb_id</th>\n",
       "      <th>chain_id</th>\n",
       "      <th>pdb_residue_number</th>\n",
       "      <th>residue_name</th>\n",
       "      <th>receptor_sequence</th>\n",
       "      <th>renum_residue_number</th>\n",
       "    </tr>\n",
       "  </thead>\n",
       "  <tbody>\n",
       "    <tr>\n",
       "      <th>0</th>\n",
       "      <td>7K86</td>\n",
       "      <td>A</td>\n",
       "      <td>1</td>\n",
       "      <td>MET</td>\n",
       "      <td>MTCRTRFAPSPTGYLHIGGARTALYCWLEARHRGGEFVLRIEDTDR...</td>\n",
       "      <td>1</td>\n",
       "    </tr>\n",
       "    <tr>\n",
       "      <th>1</th>\n",
       "      <td>7K86</td>\n",
       "      <td>A</td>\n",
       "      <td>2</td>\n",
       "      <td>THR</td>\n",
       "      <td>MTCRTRFAPSPTGYLHIGGARTALYCWLEARHRGGEFVLRIEDTDR...</td>\n",
       "      <td>2</td>\n",
       "    </tr>\n",
       "    <tr>\n",
       "      <th>2</th>\n",
       "      <td>7K86</td>\n",
       "      <td>A</td>\n",
       "      <td>3</td>\n",
       "      <td>CYS</td>\n",
       "      <td>MTCRTRFAPSPTGYLHIGGARTALYCWLEARHRGGEFVLRIEDTDR...</td>\n",
       "      <td>3</td>\n",
       "    </tr>\n",
       "    <tr>\n",
       "      <th>3</th>\n",
       "      <td>7K86</td>\n",
       "      <td>A</td>\n",
       "      <td>4</td>\n",
       "      <td>ARG</td>\n",
       "      <td>MTCRTRFAPSPTGYLHIGGARTALYCWLEARHRGGEFVLRIEDTDR...</td>\n",
       "      <td>4</td>\n",
       "    </tr>\n",
       "    <tr>\n",
       "      <th>4</th>\n",
       "      <td>7K86</td>\n",
       "      <td>A</td>\n",
       "      <td>5</td>\n",
       "      <td>THR</td>\n",
       "      <td>MTCRTRFAPSPTGYLHIGGARTALYCWLEARHRGGEFVLRIEDTDR...</td>\n",
       "      <td>5</td>\n",
       "    </tr>\n",
       "  </tbody>\n",
       "</table>\n",
       "</div>"
      ],
      "text/plain": [
       "  pdb_id chain_id  pdb_residue_number residue_name  \\\n",
       "0   7K86        A                   1          MET   \n",
       "1   7K86        A                   2          THR   \n",
       "2   7K86        A                   3          CYS   \n",
       "3   7K86        A                   4          ARG   \n",
       "4   7K86        A                   5          THR   \n",
       "\n",
       "                                   receptor_sequence  renum_residue_number  \n",
       "0  MTCRTRFAPSPTGYLHIGGARTALYCWLEARHRGGEFVLRIEDTDR...                     1  \n",
       "1  MTCRTRFAPSPTGYLHIGGARTALYCWLEARHRGGEFVLRIEDTDR...                     2  \n",
       "2  MTCRTRFAPSPTGYLHIGGARTALYCWLEARHRGGEFVLRIEDTDR...                     3  \n",
       "3  MTCRTRFAPSPTGYLHIGGARTALYCWLEARHRGGEFVLRIEDTDR...                     4  \n",
       "4  MTCRTRFAPSPTGYLHIGGARTALYCWLEARHRGGEFVLRIEDTDR...                     5  "
      ]
     },
     "execution_count": 3,
     "metadata": {},
     "output_type": "execute_result"
    }
   ],
   "source": [
    "df_master.head()"
   ]
  },
  {
   "cell_type": "code",
   "execution_count": 4,
   "id": "2abc7bd8",
   "metadata": {},
   "outputs": [],
   "source": [
    "df_pssm = pd.read_csv(\"../data/processed/non_biolip_pssm_features.csv\")"
   ]
  },
  {
   "cell_type": "code",
   "execution_count": 5,
   "id": "7ac71736",
   "metadata": {},
   "outputs": [],
   "source": [
    "for df in (df_master, df_pssm):\n",
    "    df[\"pdb_id\"]  = df[\"pdb_id\"].astype(str).str.strip().str.lower()"
   ]
  },
  {
   "cell_type": "code",
   "execution_count": 6,
   "id": "56df3820",
   "metadata": {},
   "outputs": [],
   "source": [
    "# --- 2.  Bring the identifier columns to the same spelling & dtype -----------\n",
    "df_pssm = (\n",
    "    df_pssm\n",
    "      .rename(columns={\"chain\": \"chain_id\",          # make the names match\n",
    "                       \"position\": \"renum_residue_number\"})\n",
    ")"
   ]
  },
  {
   "cell_type": "code",
   "execution_count": 7,
   "id": "1b34271d",
   "metadata": {},
   "outputs": [],
   "source": [
    "key_cols = [\"pdb_id\", \"chain_id\", \"renum_residue_number\"]\n",
    "\n",
    "# 1 Keep the first row for each key triple, drop the rest\n",
    "df_pssm = df_pssm.drop_duplicates(subset=key_cols, keep=\"first\")"
   ]
  },
  {
   "cell_type": "code",
   "execution_count": 8,
   "id": "e05d7376",
   "metadata": {},
   "outputs": [],
   "source": [
    "# --- 3.  Merge ---------------------------------------------------------------\n",
    "df_master = (\n",
    "    df_master\n",
    "      .merge(\n",
    "          df_pssm,\n",
    "          on=[\"pdb_id\", \"chain_id\", \"renum_residue_number\"],\n",
    "          how=\"left\",             # keep every residue in your master table\n",
    "          validate=\"one_to_one\",   # raises if duplicates slip through\n",
    "          indicator=True           # adds a column telling whether it matched\n",
    "      )\n",
    ")"
   ]
  },
  {
   "cell_type": "code",
   "execution_count": 12,
   "id": "70982a59",
   "metadata": {},
   "outputs": [],
   "source": [
    "df_residue = pd.read_csv(\"../data/processed/non_biolip_iupred2a_scores_all.csv\")"
   ]
  },
  {
   "cell_type": "code",
   "execution_count": 11,
   "id": "9f1184f4",
   "metadata": {},
   "outputs": [
    {
     "data": {
      "text/html": [
       "<div>\n",
       "<style scoped>\n",
       "    .dataframe tbody tr th:only-of-type {\n",
       "        vertical-align: middle;\n",
       "    }\n",
       "\n",
       "    .dataframe tbody tr th {\n",
       "        vertical-align: top;\n",
       "    }\n",
       "\n",
       "    .dataframe thead th {\n",
       "        text-align: right;\n",
       "    }\n",
       "</style>\n",
       "<table border=\"1\" class=\"dataframe\">\n",
       "  <thead>\n",
       "    <tr style=\"text-align: right;\">\n",
       "      <th></th>\n",
       "      <th>pdb_id</th>\n",
       "      <th>chain_id</th>\n",
       "      <th>residue_id</th>\n",
       "      <th>residue_name</th>\n",
       "      <th>secondary_structure</th>\n",
       "      <th>absolute_sasa</th>\n",
       "      <th>relative_asa</th>\n",
       "      <th>phi</th>\n",
       "      <th>psi</th>\n",
       "      <th>hbond_NH_O1_energy</th>\n",
       "      <th>hbond_NH_O2_energy</th>\n",
       "      <th>hbond_O_NH1_energy</th>\n",
       "      <th>hbond_O_NH2_energy</th>\n",
       "      <th>is_aromatic</th>\n",
       "      <th>is_polar</th>\n",
       "      <th>is_charged</th>\n",
       "      <th>is_hydrophobic</th>\n",
       "    </tr>\n",
       "  </thead>\n",
       "  <tbody>\n",
       "    <tr>\n",
       "      <th>0</th>\n",
       "      <td>2brh</td>\n",
       "      <td>A</td>\n",
       "      <td>6</td>\n",
       "      <td>V</td>\n",
       "      <td>-</td>\n",
       "      <td>0.922535</td>\n",
       "      <td>360.0</td>\n",
       "      <td>-34.6</td>\n",
       "      <td>0</td>\n",
       "      <td>0.0</td>\n",
       "      <td>2</td>\n",
       "      <td>-0.2</td>\n",
       "      <td>0</td>\n",
       "      <td>0</td>\n",
       "      <td>0</td>\n",
       "      <td>0</td>\n",
       "      <td>1</td>\n",
       "    </tr>\n",
       "    <tr>\n",
       "      <th>1</th>\n",
       "      <td>2brh</td>\n",
       "      <td>A</td>\n",
       "      <td>7</td>\n",
       "      <td>E</td>\n",
       "      <td>-</td>\n",
       "      <td>0.731959</td>\n",
       "      <td>-84.2</td>\n",
       "      <td>162.0</td>\n",
       "      <td>21</td>\n",
       "      <td>-0.1</td>\n",
       "      <td>23</td>\n",
       "      <td>-0.1</td>\n",
       "      <td>22</td>\n",
       "      <td>0</td>\n",
       "      <td>0</td>\n",
       "      <td>1</td>\n",
       "      <td>0</td>\n",
       "    </tr>\n",
       "    <tr>\n",
       "      <th>2</th>\n",
       "      <td>2brh</td>\n",
       "      <td>A</td>\n",
       "      <td>8</td>\n",
       "      <td>D</td>\n",
       "      <td>-</td>\n",
       "      <td>0.533742</td>\n",
       "      <td>96.2</td>\n",
       "      <td>114.3</td>\n",
       "      <td>-2</td>\n",
       "      <td>-0.2</td>\n",
       "      <td>21</td>\n",
       "      <td>-1.9</td>\n",
       "      <td>21</td>\n",
       "      <td>0</td>\n",
       "      <td>0</td>\n",
       "      <td>1</td>\n",
       "      <td>0</td>\n",
       "    </tr>\n",
       "    <tr>\n",
       "      <th>3</th>\n",
       "      <td>2brh</td>\n",
       "      <td>A</td>\n",
       "      <td>9</td>\n",
       "      <td>W</td>\n",
       "      <td>E</td>\n",
       "      <td>0.400881</td>\n",
       "      <td>-125.4</td>\n",
       "      <td>131.0</td>\n",
       "      <td>19</td>\n",
       "      <td>-0.2</td>\n",
       "      <td>2</td>\n",
       "      <td>-0.4</td>\n",
       "      <td>20</td>\n",
       "      <td>1</td>\n",
       "      <td>0</td>\n",
       "      <td>0</td>\n",
       "      <td>1</td>\n",
       "    </tr>\n",
       "    <tr>\n",
       "      <th>4</th>\n",
       "      <td>2brh</td>\n",
       "      <td>A</td>\n",
       "      <td>10</td>\n",
       "      <td>D</td>\n",
       "      <td>E</td>\n",
       "      <td>0.527607</td>\n",
       "      <td>-90.5</td>\n",
       "      <td>133.3</td>\n",
       "      <td>17</td>\n",
       "      <td>-2.3</td>\n",
       "      <td>17</td>\n",
       "      <td>-2.3</td>\n",
       "      <td>-2</td>\n",
       "      <td>0</td>\n",
       "      <td>0</td>\n",
       "      <td>1</td>\n",
       "      <td>0</td>\n",
       "    </tr>\n",
       "  </tbody>\n",
       "</table>\n",
       "</div>"
      ],
      "text/plain": [
       "  pdb_id chain_id residue_id residue_name secondary_structure  absolute_sasa  \\\n",
       "0   2brh        A          6            V                   -       0.922535   \n",
       "1   2brh        A          7            E                   -       0.731959   \n",
       "2   2brh        A          8            D                   -       0.533742   \n",
       "3   2brh        A          9            W                   E       0.400881   \n",
       "4   2brh        A         10            D                   E       0.527607   \n",
       "\n",
       "   relative_asa    phi  psi  hbond_NH_O1_energy  hbond_NH_O2_energy  \\\n",
       "0         360.0  -34.6    0                 0.0                   2   \n",
       "1         -84.2  162.0   21                -0.1                  23   \n",
       "2          96.2  114.3   -2                -0.2                  21   \n",
       "3        -125.4  131.0   19                -0.2                   2   \n",
       "4         -90.5  133.3   17                -2.3                  17   \n",
       "\n",
       "   hbond_O_NH1_energy  hbond_O_NH2_energy  is_aromatic  is_polar  is_charged  \\\n",
       "0                -0.2                   0            0         0           0   \n",
       "1                -0.1                  22            0         0           1   \n",
       "2                -1.9                  21            0         0           1   \n",
       "3                -0.4                  20            1         0           0   \n",
       "4                -2.3                  -2            0         0           1   \n",
       "\n",
       "   is_hydrophobic  \n",
       "0               1  \n",
       "1               0  \n",
       "2               0  \n",
       "3               1  \n",
       "4               0  "
      ]
     },
     "execution_count": 11,
     "metadata": {},
     "output_type": "execute_result"
    }
   ],
   "source": [
    "df_residue.head()"
   ]
  },
  {
   "cell_type": "code",
   "execution_count": null,
   "id": "67f8a860",
   "metadata": {},
   "outputs": [],
   "source": [
    "df_residue.head()"
   ]
  },
  {
   "cell_type": "code",
   "execution_count": null,
   "id": "2c678839",
   "metadata": {},
   "outputs": [],
   "source": [
    "# --- 2.  Bring the identifier columns to the same spelling & dtype -----------\n",
    "df_residue = (\n",
    "    df_residue\n",
    "      .rename(columns={\"residue_id\": \"pdb_residue_number\"})\n",
    ")"
   ]
  },
  {
   "cell_type": "code",
   "execution_count": null,
   "id": "1a1cd03a",
   "metadata": {},
   "outputs": [],
   "source": [
    "# columns that define a “match”\n",
    "key_cols = [\"pdb_id\", \"chain_id\", \"pdb_residue_number\"]\n",
    "\n",
    "# (1) make sure both tables have only one row per key so the count is honest\n",
    "left_keys  = df_master[key_cols].drop_duplicates()\n",
    "right_keys = df_residue[key_cols].drop_duplicates()\n",
    "\n",
    "# (2) inner-join just those key columns\n",
    "matching_keys = left_keys.merge(right_keys, on=key_cols, how=\"inner\")\n",
    "\n",
    "n_match   = len(matching_keys)          # keys shared by both tables\n",
    "n_master  = len(left_keys)              # unique keys in df_master\n",
    "n_residue = len(right_keys)             # unique keys in df_residue\n",
    "\n",
    "print(f\"{n_match:,} of {n_master:,} keys in df_master \"\n",
    "      f\"({n_match/n_master:.1%}) are present in df_residue.\")\n",
    "print(f\"{n_match:,} of {n_residue:,} keys in df_residue \"\n",
    "      f\"({n_match/n_residue:.1%}) are present in df_master.\")\n"
   ]
  },
  {
   "cell_type": "code",
   "execution_count": null,
   "id": "b6cf28eb",
   "metadata": {},
   "outputs": [],
   "source": [
    "key_cols = [\"pdb_id\", \"chain_id\", \"pdb_residue_number\"]\n",
    "\n",
    "# 1 Keep the first row for each key triple, drop the rest\n",
    "df_residue = df_residue.drop_duplicates(subset=key_cols, keep=\"first\")\n",
    "df_master = df_master.drop_duplicates(subset=key_cols, keep=\"first\")"
   ]
  },
  {
   "cell_type": "code",
   "execution_count": null,
   "id": "0cf7ab3e",
   "metadata": {},
   "outputs": [],
   "source": [
    "df_master.drop(columns=\"_merge\", errors=\"ignore\", inplace=True)"
   ]
  },
  {
   "cell_type": "code",
   "execution_count": null,
   "id": "f3f92a1c",
   "metadata": {},
   "outputs": [],
   "source": [
    "# --- 3.  Merge ---------------------------------------------------------------\n",
    "df_master = (\n",
    "    df_master\n",
    "      .merge(\n",
    "          df_residue,\n",
    "          on=[\"pdb_id\", \"chain_id\", \"pdb_residue_number\"],\n",
    "          how=\"left\",             # keep every residue in your master table\n",
    "          validate=\"one_to_one\",   # raises if duplicates slip through\n",
    "          indicator=True           # adds a column telling whether it matched\n",
    "      )\n",
    ")"
   ]
  },
  {
   "cell_type": "code",
   "execution_count": null,
   "id": "2bfc3476",
   "metadata": {},
   "outputs": [],
   "source": [
    "df_residue.head()"
   ]
  },
  {
   "cell_type": "code",
   "execution_count": null,
   "id": "07dfbc67",
   "metadata": {},
   "outputs": [],
   "source": [
    "pd.set_option('display.max_rows', None)\n",
    "pd.set_option('display.max_columns', None)"
   ]
  },
  {
   "cell_type": "code",
   "execution_count": null,
   "id": "06c1c876",
   "metadata": {},
   "outputs": [],
   "source": [
    "df_master.head()"
   ]
  },
  {
   "cell_type": "code",
   "execution_count": null,
   "id": "65b484ca",
   "metadata": {},
   "outputs": [],
   "source": [
    "df_residue.head()"
   ]
  },
  {
   "cell_type": "code",
   "execution_count": null,
   "id": "8506708b",
   "metadata": {},
   "outputs": [],
   "source": [
    "df_master.shape, df_residue.shape"
   ]
  },
  {
   "cell_type": "code",
   "execution_count": null,
   "id": "077b2689",
   "metadata": {},
   "outputs": [],
   "source": [
    "# 1) Grand total of all NaNs in the whole table\n",
    "total_missing = df_master.isna().sum().sum()\n",
    "print(f\"Total missing cells: {total_missing:,}\")\n",
    "\n",
    "# 2) Per-column breakdown (sorted, largest first)\n",
    "missing_by_col = (\n",
    "    df_master.isna()\n",
    "             .sum()\n",
    "             .sort_values(ascending=False)\n",
    ")\n",
    "print(missing_by_col)\n"
   ]
  },
  {
   "cell_type": "code",
   "execution_count": null,
   "id": "0ee06506",
   "metadata": {},
   "outputs": [],
   "source": []
  }
 ],
 "metadata": {
  "kernelspec": {
   "display_name": "biomodeling",
   "language": "python",
   "name": "python3"
  },
  "language_info": {
   "codemirror_mode": {
    "name": "ipython",
    "version": 3
   },
   "file_extension": ".py",
   "mimetype": "text/x-python",
   "name": "python",
   "nbconvert_exporter": "python",
   "pygments_lexer": "ipython3",
   "version": "3.11.11"
  }
 },
 "nbformat": 4,
 "nbformat_minor": 5
}
