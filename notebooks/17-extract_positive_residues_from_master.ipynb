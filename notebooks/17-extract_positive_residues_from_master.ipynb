{
 "cells": [
  {
   "cell_type": "code",
   "execution_count": 1,
   "id": "cb2a5bb2",
   "metadata": {},
   "outputs": [],
   "source": [
    "import pandas as pd"
   ]
  },
  {
   "cell_type": "code",
   "execution_count": 2,
   "id": "b572ac7f",
   "metadata": {},
   "outputs": [],
   "source": [
    "# Path to the large master CSV file\n",
    "master_file_path = \"../data/processed/master_residue_file.csv\""
   ]
  },
  {
   "cell_type": "code",
   "execution_count": 3,
   "id": "9168adbb",
   "metadata": {},
   "outputs": [],
   "source": [
    "# Set an appropriate chunk size (adjust based on your RAM; 100,000 rows is a safe start)\n",
    "chunk_size = 100_000\n",
    "\n",
    "# Initialize an empty list to collect filtered chunks\n",
    "positive_chunks = []\n",
    "\n",
    "# Define the name of the column that indicates binding status\n",
    "# Replace 'label' with the correct column name if it's different\n",
    "binding_label_column = 'label'"
   ]
  },
  {
   "cell_type": "code",
   "execution_count": 4,
   "id": "742ccfc2",
   "metadata": {},
   "outputs": [
    {
     "name": "stderr",
     "output_type": "stream",
     "text": [
      "/tmp/ipykernel_239035/1200506279.py:2: DtypeWarning: Columns (55,56) have mixed types. Specify dtype option on import or set low_memory=False.\n",
      "  for chunk in pd.read_csv(master_file_path, chunksize=chunk_size):\n",
      "/tmp/ipykernel_239035/1200506279.py:2: DtypeWarning: Columns (55,56) have mixed types. Specify dtype option on import or set low_memory=False.\n",
      "  for chunk in pd.read_csv(master_file_path, chunksize=chunk_size):\n",
      "/tmp/ipykernel_239035/1200506279.py:2: DtypeWarning: Columns (55,56) have mixed types. Specify dtype option on import or set low_memory=False.\n",
      "  for chunk in pd.read_csv(master_file_path, chunksize=chunk_size):\n",
      "/tmp/ipykernel_239035/1200506279.py:2: DtypeWarning: Columns (55,56) have mixed types. Specify dtype option on import or set low_memory=False.\n",
      "  for chunk in pd.read_csv(master_file_path, chunksize=chunk_size):\n",
      "/tmp/ipykernel_239035/1200506279.py:2: DtypeWarning: Columns (55,56) have mixed types. Specify dtype option on import or set low_memory=False.\n",
      "  for chunk in pd.read_csv(master_file_path, chunksize=chunk_size):\n",
      "/tmp/ipykernel_239035/1200506279.py:2: DtypeWarning: Columns (55,56) have mixed types. Specify dtype option on import or set low_memory=False.\n",
      "  for chunk in pd.read_csv(master_file_path, chunksize=chunk_size):\n",
      "/tmp/ipykernel_239035/1200506279.py:2: DtypeWarning: Columns (55,56) have mixed types. Specify dtype option on import or set low_memory=False.\n",
      "  for chunk in pd.read_csv(master_file_path, chunksize=chunk_size):\n",
      "/tmp/ipykernel_239035/1200506279.py:2: DtypeWarning: Columns (55,56) have mixed types. Specify dtype option on import or set low_memory=False.\n",
      "  for chunk in pd.read_csv(master_file_path, chunksize=chunk_size):\n",
      "/tmp/ipykernel_239035/1200506279.py:2: DtypeWarning: Columns (55,56) have mixed types. Specify dtype option on import or set low_memory=False.\n",
      "  for chunk in pd.read_csv(master_file_path, chunksize=chunk_size):\n",
      "/tmp/ipykernel_239035/1200506279.py:2: DtypeWarning: Columns (55,56) have mixed types. Specify dtype option on import or set low_memory=False.\n",
      "  for chunk in pd.read_csv(master_file_path, chunksize=chunk_size):\n",
      "/tmp/ipykernel_239035/1200506279.py:2: DtypeWarning: Columns (55,56) have mixed types. Specify dtype option on import or set low_memory=False.\n",
      "  for chunk in pd.read_csv(master_file_path, chunksize=chunk_size):\n",
      "/tmp/ipykernel_239035/1200506279.py:2: DtypeWarning: Columns (55,56) have mixed types. Specify dtype option on import or set low_memory=False.\n",
      "  for chunk in pd.read_csv(master_file_path, chunksize=chunk_size):\n",
      "/tmp/ipykernel_239035/1200506279.py:2: DtypeWarning: Columns (55,56) have mixed types. Specify dtype option on import or set low_memory=False.\n",
      "  for chunk in pd.read_csv(master_file_path, chunksize=chunk_size):\n",
      "/tmp/ipykernel_239035/1200506279.py:2: DtypeWarning: Columns (31,55,56) have mixed types. Specify dtype option on import or set low_memory=False.\n",
      "  for chunk in pd.read_csv(master_file_path, chunksize=chunk_size):\n",
      "/tmp/ipykernel_239035/1200506279.py:2: DtypeWarning: Columns (55,56) have mixed types. Specify dtype option on import or set low_memory=False.\n",
      "  for chunk in pd.read_csv(master_file_path, chunksize=chunk_size):\n",
      "/tmp/ipykernel_239035/1200506279.py:2: DtypeWarning: Columns (55,56) have mixed types. Specify dtype option on import or set low_memory=False.\n",
      "  for chunk in pd.read_csv(master_file_path, chunksize=chunk_size):\n",
      "/tmp/ipykernel_239035/1200506279.py:2: DtypeWarning: Columns (55,56) have mixed types. Specify dtype option on import or set low_memory=False.\n",
      "  for chunk in pd.read_csv(master_file_path, chunksize=chunk_size):\n",
      "/tmp/ipykernel_239035/1200506279.py:2: DtypeWarning: Columns (55,56) have mixed types. Specify dtype option on import or set low_memory=False.\n",
      "  for chunk in pd.read_csv(master_file_path, chunksize=chunk_size):\n",
      "/tmp/ipykernel_239035/1200506279.py:2: DtypeWarning: Columns (55,56) have mixed types. Specify dtype option on import or set low_memory=False.\n",
      "  for chunk in pd.read_csv(master_file_path, chunksize=chunk_size):\n",
      "/tmp/ipykernel_239035/1200506279.py:2: DtypeWarning: Columns (55,56) have mixed types. Specify dtype option on import or set low_memory=False.\n",
      "  for chunk in pd.read_csv(master_file_path, chunksize=chunk_size):\n",
      "/tmp/ipykernel_239035/1200506279.py:2: DtypeWarning: Columns (55,56) have mixed types. Specify dtype option on import or set low_memory=False.\n",
      "  for chunk in pd.read_csv(master_file_path, chunksize=chunk_size):\n",
      "/tmp/ipykernel_239035/1200506279.py:2: DtypeWarning: Columns (55,56) have mixed types. Specify dtype option on import or set low_memory=False.\n",
      "  for chunk in pd.read_csv(master_file_path, chunksize=chunk_size):\n",
      "/tmp/ipykernel_239035/1200506279.py:2: DtypeWarning: Columns (55,56) have mixed types. Specify dtype option on import or set low_memory=False.\n",
      "  for chunk in pd.read_csv(master_file_path, chunksize=chunk_size):\n",
      "/tmp/ipykernel_239035/1200506279.py:2: DtypeWarning: Columns (55,56) have mixed types. Specify dtype option on import or set low_memory=False.\n",
      "  for chunk in pd.read_csv(master_file_path, chunksize=chunk_size):\n"
     ]
    }
   ],
   "source": [
    "# Process the file in chunks\n",
    "for chunk in pd.read_csv(master_file_path, chunksize=chunk_size):\n",
    "    # Filter only rows where the label is 1 (positive binding residues)\n",
    "    positive_chunk = chunk[chunk[binding_label_column] == 1].copy()\n",
    "    \n",
    "    # Append filtered chunk to the list\n",
    "    positive_chunks.append(positive_chunk)\n",
    "\n",
    "# Concatenate all filtered chunks into a single DataFrame\n",
    "positive_residues_df = pd.concat(positive_chunks, ignore_index=True)"
   ]
  },
  {
   "cell_type": "code",
   "execution_count": 5,
   "id": "172c1596",
   "metadata": {},
   "outputs": [
    {
     "data": {
      "text/plain": [
       "label\n",
       "1    648392\n",
       "Name: count, dtype: int64"
      ]
     },
     "execution_count": 5,
     "metadata": {},
     "output_type": "execute_result"
    }
   ],
   "source": [
    "positive_residues_df['label'].value_counts()"
   ]
  },
  {
   "cell_type": "code",
   "execution_count": 6,
   "id": "428994df",
   "metadata": {},
   "outputs": [],
   "source": [
    "ligand_data_path = '../data/processed/BioLiP_positives_residue_level_with_duplicates_1.csv'\n",
    "positive_ligand_df = pd.read_csv(ligand_data_path)"
   ]
  },
  {
   "cell_type": "code",
   "execution_count": 9,
   "id": "850759ff",
   "metadata": {},
   "outputs": [],
   "source": [
    "# Step 2: Select only relevant columns\n",
    "ligand_columns = [\n",
    "    'pdb_id',\n",
    "    'chain_id',\n",
    "    'pdb_residue_number',\n",
    "    'ligand_id',\n",
    "    'ligand_chain',\n",
    "    'ligand_serial_number',\n",
    "]"
   ]
  },
  {
   "cell_type": "code",
   "execution_count": 10,
   "id": "28173322",
   "metadata": {},
   "outputs": [],
   "source": [
    "positive_ligand_df.columns\n",
    "positive_ligand_df = positive_ligand_df[ligand_columns]"
   ]
  },
  {
   "cell_type": "code",
   "execution_count": 11,
   "id": "dd1dee02",
   "metadata": {},
   "outputs": [],
   "source": [
    "positive_ligand_df = positive_ligand_df.drop_duplicates(\n",
    "    subset=['pdb_id', 'chain_id', 'pdb_residue_number'],\n",
    "    keep='first'\n",
    ")"
   ]
  },
  {
   "cell_type": "code",
   "execution_count": 12,
   "id": "f9349df0",
   "metadata": {},
   "outputs": [],
   "source": [
    "positive_residues_df = positive_residues_df.merge(\n",
    "    positive_ligand_df,\n",
    "    on=['pdb_id', 'chain_id', 'pdb_residue_number'],\n",
    "    how='left'  # 'left' keeps all positive residues, even if some lack ligand info\n",
    ")"
   ]
  },
  {
   "cell_type": "code",
   "execution_count": 14,
   "id": "446d9240",
   "metadata": {},
   "outputs": [],
   "source": [
    "# Define output path\n",
    "output_path = \"../data/processed/master_positive_residue_file.csv\"\n",
    "\n",
    "# Save to CSV\n",
    "positive_residues_df.to_csv(output_path, index=False)"
   ]
  },
  {
   "cell_type": "code",
   "execution_count": 15,
   "id": "a5ed4f60",
   "metadata": {},
   "outputs": [],
   "source": [
    "# Count how many residues are associated with each ligand type\n",
    "ligand_counts = positive_residues_df['ligand_id'].value_counts(dropna=False).reset_index()"
   ]
  },
  {
   "cell_type": "code",
   "execution_count": 16,
   "id": "bd89d5a4",
   "metadata": {},
   "outputs": [
    {
     "data": {
      "text/html": [
       "<div>\n",
       "<style scoped>\n",
       "    .dataframe tbody tr th:only-of-type {\n",
       "        vertical-align: middle;\n",
       "    }\n",
       "\n",
       "    .dataframe tbody tr th {\n",
       "        vertical-align: top;\n",
       "    }\n",
       "\n",
       "    .dataframe thead th {\n",
       "        text-align: right;\n",
       "    }\n",
       "</style>\n",
       "<table border=\"1\" class=\"dataframe\">\n",
       "  <thead>\n",
       "    <tr style=\"text-align: right;\">\n",
       "      <th></th>\n",
       "      <th>ligand_id</th>\n",
       "      <th>count</th>\n",
       "    </tr>\n",
       "  </thead>\n",
       "  <tbody>\n",
       "    <tr>\n",
       "      <th>0</th>\n",
       "      <td>rna</td>\n",
       "      <td>203216</td>\n",
       "    </tr>\n",
       "    <tr>\n",
       "      <th>1</th>\n",
       "      <td>peptide</td>\n",
       "      <td>43568</td>\n",
       "    </tr>\n",
       "    <tr>\n",
       "      <th>2</th>\n",
       "      <td>dna</td>\n",
       "      <td>32888</td>\n",
       "    </tr>\n",
       "    <tr>\n",
       "      <th>3</th>\n",
       "      <td>CLA</td>\n",
       "      <td>31270</td>\n",
       "    </tr>\n",
       "    <tr>\n",
       "      <th>4</th>\n",
       "      <td>ZN</td>\n",
       "      <td>24705</td>\n",
       "    </tr>\n",
       "    <tr>\n",
       "      <th>...</th>\n",
       "      <td>...</td>\n",
       "      <td>...</td>\n",
       "    </tr>\n",
       "    <tr>\n",
       "      <th>5760</th>\n",
       "      <td>HDR</td>\n",
       "      <td>1</td>\n",
       "    </tr>\n",
       "    <tr>\n",
       "      <th>5761</th>\n",
       "      <td>SUS</td>\n",
       "      <td>1</td>\n",
       "    </tr>\n",
       "    <tr>\n",
       "      <th>5762</th>\n",
       "      <td>OUO</td>\n",
       "      <td>1</td>\n",
       "    </tr>\n",
       "    <tr>\n",
       "      <th>5763</th>\n",
       "      <td>TTC</td>\n",
       "      <td>1</td>\n",
       "    </tr>\n",
       "    <tr>\n",
       "      <th>5764</th>\n",
       "      <td>A1AGH</td>\n",
       "      <td>1</td>\n",
       "    </tr>\n",
       "  </tbody>\n",
       "</table>\n",
       "<p>5765 rows × 2 columns</p>\n",
       "</div>"
      ],
      "text/plain": [
       "     ligand_id   count\n",
       "0          rna  203216\n",
       "1      peptide   43568\n",
       "2          dna   32888\n",
       "3          CLA   31270\n",
       "4           ZN   24705\n",
       "...        ...     ...\n",
       "5760       HDR       1\n",
       "5761       SUS       1\n",
       "5762       OUO       1\n",
       "5763       TTC       1\n",
       "5764     A1AGH       1\n",
       "\n",
       "[5765 rows x 2 columns]"
      ]
     },
     "execution_count": 16,
     "metadata": {},
     "output_type": "execute_result"
    }
   ],
   "source": [
    "ligand_counts"
   ]
  },
  {
   "cell_type": "code",
   "execution_count": 17,
   "id": "dddb9938",
   "metadata": {},
   "outputs": [],
   "source": [
    "# Rename columns for clarity\n",
    "ligand_counts.columns = ['ligand_id', 'residue_count']"
   ]
  },
  {
   "cell_type": "code",
   "execution_count": 18,
   "id": "c03e26a0",
   "metadata": {},
   "outputs": [],
   "source": [
    "# Define output path for the ligand summary\n",
    "ligand_summary_path = \"../not_necessary_data_and_codes/ligand_residue_counts.csv\"\n",
    "\n",
    "# Save the ligand counts to CSV\n",
    "ligand_counts.to_csv(ligand_summary_path, index=False)"
   ]
  },
  {
   "cell_type": "code",
   "execution_count": null,
   "id": "3cc5a16e",
   "metadata": {},
   "outputs": [],
   "source": []
  }
 ],
 "metadata": {
  "kernelspec": {
   "display_name": "biomodeling",
   "language": "python",
   "name": "python3"
  },
  "language_info": {
   "codemirror_mode": {
    "name": "ipython",
    "version": 3
   },
   "file_extension": ".py",
   "mimetype": "text/x-python",
   "name": "python",
   "nbconvert_exporter": "python",
   "pygments_lexer": "ipython3",
   "version": "3.11.11"
  }
 },
 "nbformat": 4,
 "nbformat_minor": 5
}
