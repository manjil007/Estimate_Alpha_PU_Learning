{
 "cells": [
  {
   "cell_type": "code",
   "execution_count": 1,
   "id": "0ada434a",
   "metadata": {},
   "outputs": [],
   "source": [
    "import pandas as pd"
   ]
  },
  {
   "cell_type": "code",
   "execution_count": 2,
   "id": "5ffa199b",
   "metadata": {},
   "outputs": [
    {
     "name": "stderr",
     "output_type": "stream",
     "text": [
      "/tmp/ipykernel_662834/3224714584.py:1: DtypeWarning: Columns (13,14,15,16) have mixed types. Specify dtype option on import or set low_memory=False.\n",
      "  df = pd.read_csv('../data/raw/BioLiP_nr.txt', sep='\\t', header=None)\n"
     ]
    }
   ],
   "source": [
    "df = pd.read_csv('../data/raw/BioLiP_nr.txt', sep='\\t', header=None)"
   ]
  },
  {
   "cell_type": "code",
   "execution_count": 3,
   "id": "49f6feb6",
   "metadata": {},
   "outputs": [],
   "source": [
    "columns = [\n",
    "    \"pdb_id\",                      # 01: PDB ID\n",
    "    \"receptor_chain\",              # 02: Receptor chain\n",
    "    \"resolution\",                  # 03: Resolution (-1.00 indicates missing data)\n",
    "    \"binding_site_id\",             # 04: Binding site number code\n",
    "    \"ligand_id\",                   # 05: Ligand ID (CCD code)\n",
    "    \"ligand_chain\",                # 06: Ligand chain\n",
    "    \"ligand_serial_number\",        # 07: Ligand serial number\n",
    "    \"binding_residues_pdb\",        # 08: Binding site residues (PDB numbering)\n",
    "    \"binding_residues_renum\",      # 09: Binding site residues (renumbered from 1)\n",
    "    \"catalytic_residues_pdb\",      # 10: Catalytic site residues (PDB numbering)\n",
    "    \"catalytic_residues_renum\",    # 11: Catalytic site residues (renumbered from 1)\n",
    "    \"ec_number\",                   # 12: EC number\n",
    "    \"go_terms\",                    # 13: GO terms\n",
    "    \"binding_affinity_literature\", # 14: Binding affinity (manual survey)\n",
    "    \"binding_affinity_moad\",       # 15: Binding affinity (Binding MOAD)\n",
    "    \"binding_affinity_pdbbind\",    # 16: Binding affinity (PDBbind-CN)\n",
    "    \"binding_affinity_bindingdb\",  # 17: Binding affinity (BindingDB)\n",
    "    \"uniprot_id\",                  # 18: UniProt ID\n",
    "    \"pubmed_id\",                   # 19: PubMed ID\n",
    "    \"ligand_residue_seq_number\",   # 20: Ligand residue sequence number\n",
    "    \"receptor_sequence\"            # 21: Receptor sequence\n",
    "]"
   ]
  },
  {
   "cell_type": "code",
   "execution_count": 4,
   "id": "56e90358",
   "metadata": {},
   "outputs": [],
   "source": [
    "df.columns = columns"
   ]
  },
  {
   "cell_type": "code",
   "execution_count": 5,
   "id": "6035b59d",
   "metadata": {},
   "outputs": [
    {
     "name": "stdout",
     "output_type": "stream",
     "text": [
      "Skipping 6rm3 chain SX0 due to invalid chain identifier.\n",
      "Skipping 6zj3 chain SX due to invalid chain identifier.\n",
      "Skipping 6zu5 chain SX0 due to invalid chain identifier.\n",
      "Skipping 7nrc chain SX due to invalid chain identifier.\n",
      "Skipping 7nrd chain SX due to invalid chain identifier.\n",
      "Skipping 7wtl chain SX due to invalid chain identifier.\n",
      "Skipping 8bsj chain SX due to invalid chain identifier.\n",
      "Skipping 8g5y chain SX due to invalid chain identifier.\n",
      "Skipping 8p5d chain SX0 due to invalid chain identifier.\n"
     ]
    }
   ],
   "source": [
    "import os\n",
    "\n",
    "# Create output FASTA folder\n",
    "fasta_dir = \"../data/raw/iupred_fasta_test\"\n",
    "os.makedirs(fasta_dir, exist_ok=True)\n",
    "\n",
    "# Drop duplicates to ensure unique PDB-chain combinations\n",
    "unique_entries = df[['pdb_id', 'receptor_chain', 'receptor_sequence']].drop_duplicates()\n",
    "\n",
    "# Write FASTA file for each entry\n",
    "fasta_paths = []\n",
    "for _, row in unique_entries.iterrows():\n",
    "    pdb_id = row['pdb_id']\n",
    "    chain = row['receptor_chain']\n",
    "    sequence = row['receptor_sequence']\n",
    "    fasta_filename = f\"{pdb_id}_{chain}.fasta\"\n",
    "    fasta_path = os.path.join(fasta_dir, fasta_filename)\n",
    "    fasta_paths.append(fasta_path)\n",
    "    if chain == \"SX\" or chain == \"SX0\":\n",
    "        print(f\"Skipping {pdb_id} chain {chain} due to invalid chain identifier.\")\n",
    "    \n",
    "    with open(fasta_path, \"w\") as f:\n",
    "        f.write(f\">{pdb_id}_{chain}\\n{sequence}\\n\")"
   ]
  },
  {
   "cell_type": "code",
   "execution_count": null,
   "id": "a5f95fc4",
   "metadata": {},
   "outputs": [],
   "source": []
  }
 ],
 "metadata": {
  "kernelspec": {
   "display_name": "biomodeling",
   "language": "python",
   "name": "python3"
  },
  "language_info": {
   "codemirror_mode": {
    "name": "ipython",
    "version": 3
   },
   "file_extension": ".py",
   "mimetype": "text/x-python",
   "name": "python",
   "nbconvert_exporter": "python",
   "pygments_lexer": "ipython3",
   "version": "3.11.11"
  }
 },
 "nbformat": 4,
 "nbformat_minor": 5
}
